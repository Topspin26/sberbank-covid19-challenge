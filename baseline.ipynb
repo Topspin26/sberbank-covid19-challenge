{
 "cells": [
  {
   "cell_type": "code",
   "execution_count": 1,
   "metadata": {
    "collapsed": true
   },
   "outputs": [],
   "source": [
    "%load_ext autoreload\n",
    "%autoreload 2"
   ]
  },
  {
   "cell_type": "code",
   "execution_count": 2,
   "metadata": {
    "collapsed": true
   },
   "outputs": [],
   "source": [
    "import os\n",
    "import sys\n",
    "\n",
    "from collections import *\n",
    "import itertools\n",
    "import json\n",
    "import numpy as np\n",
    "import scipy as sp\n",
    "import pandas as pd\n",
    "import csv\n",
    "\n",
    "\n",
    "import xgboost as xgb\n",
    "\n",
    "\n",
    "import matplotlib.pyplot as plt\n",
    "%matplotlib inline\n",
    "\n",
    "import seaborn as sns\n",
    "sns.set()\n",
    "sns.set(font_scale=1.2)\n",
    "\n",
    "from IPython.display import display\n",
    "pd.options.display.max_rows = 100\n",
    "pd.options.display.max_colwidth = 150"
   ]
  },
  {
   "cell_type": "markdown",
   "metadata": {},
   "source": [
    "## Источники данных"
   ]
  },
  {
   "cell_type": "code",
   "execution_count": 3,
   "metadata": {
    "collapsed": true
   },
   "outputs": [],
   "source": [
    "COVID_19_plus_Russia = 'grwlf/COVID-19_plus_Russia'\n",
    "CSSEGISandData = 'CSSEGISandData/COVID-19'\n",
    "EXTERNAL_DATA_DIRNAME = '../external'"
   ]
  },
  {
   "cell_type": "code",
   "execution_count": 4,
   "metadata": {
    "collapsed": true
   },
   "outputs": [],
   "source": [
    "#! git clone https://github.com/{COVID_19_plus_Russia}.git {EXTERNAL_DATA_DIRNAME}/{COVID_19_plus_Russia}"
   ]
  },
  {
   "cell_type": "code",
   "execution_count": 5,
   "metadata": {
    "collapsed": true
   },
   "outputs": [],
   "source": [
    "#! git clone https://github.com/{CSSEGISandData}.git {EXTERNAL_DATA_DIRNAME}/{CSSEGISandData}"
   ]
  },
  {
   "cell_type": "markdown",
   "metadata": {},
   "source": [
    "## Чтение данных"
   ]
  },
  {
   "cell_type": "markdown",
   "metadata": {},
   "source": [
    "### Информация по странам и регионам"
   ]
  },
  {
   "cell_type": "code",
   "execution_count": 6,
   "metadata": {
    "collapsed": true
   },
   "outputs": [],
   "source": [
    "countries = pd.read_csv(os.path.join('data', 'countries.csv'))\n",
    "countries.drop(['iso_alpha2','iso_numeric','official_name','name'], axis='columns',inplace=True)"
   ]
  },
  {
   "cell_type": "code",
   "execution_count": 7,
   "metadata": {},
   "outputs": [
    {
     "data": {
      "text/html": [
       "<div>\n",
       "<style scoped>\n",
       "    .dataframe tbody tr th:only-of-type {\n",
       "        vertical-align: middle;\n",
       "    }\n",
       "\n",
       "    .dataframe tbody tr th {\n",
       "        vertical-align: top;\n",
       "    }\n",
       "\n",
       "    .dataframe thead th {\n",
       "        text-align: right;\n",
       "    }\n",
       "</style>\n",
       "<table border=\"1\" class=\"dataframe\">\n",
       "  <thead>\n",
       "    <tr style=\"text-align: right;\">\n",
       "      <th></th>\n",
       "      <th>iso_alpha3</th>\n",
       "      <th>ccse_name</th>\n",
       "      <th>density</th>\n",
       "      <th>fertility_rate</th>\n",
       "      <th>land_area</th>\n",
       "      <th>median_age</th>\n",
       "      <th>migrants</th>\n",
       "      <th>population</th>\n",
       "      <th>urban_pop_rate</th>\n",
       "      <th>world_share</th>\n",
       "    </tr>\n",
       "  </thead>\n",
       "  <tbody>\n",
       "    <tr>\n",
       "      <th>0</th>\n",
       "      <td>AFG</td>\n",
       "      <td>Afghanistan</td>\n",
       "      <td>60</td>\n",
       "      <td>4.6</td>\n",
       "      <td>652860</td>\n",
       "      <td>18.0</td>\n",
       "      <td>-62920.0</td>\n",
       "      <td>38928346</td>\n",
       "      <td>0.25</td>\n",
       "      <td>0.0050</td>\n",
       "    </tr>\n",
       "    <tr>\n",
       "      <th>1</th>\n",
       "      <td>ALB</td>\n",
       "      <td>Albania</td>\n",
       "      <td>105</td>\n",
       "      <td>1.6</td>\n",
       "      <td>27400</td>\n",
       "      <td>36.0</td>\n",
       "      <td>-14000.0</td>\n",
       "      <td>2877797</td>\n",
       "      <td>0.63</td>\n",
       "      <td>0.0004</td>\n",
       "    </tr>\n",
       "    <tr>\n",
       "      <th>2</th>\n",
       "      <td>DZA</td>\n",
       "      <td>Algeria</td>\n",
       "      <td>18</td>\n",
       "      <td>3.1</td>\n",
       "      <td>2381740</td>\n",
       "      <td>29.0</td>\n",
       "      <td>-10000.0</td>\n",
       "      <td>43851044</td>\n",
       "      <td>0.73</td>\n",
       "      <td>0.0056</td>\n",
       "    </tr>\n",
       "    <tr>\n",
       "      <th>3</th>\n",
       "      <td>AND</td>\n",
       "      <td>Andorra</td>\n",
       "      <td>164</td>\n",
       "      <td>NaN</td>\n",
       "      <td>470</td>\n",
       "      <td>NaN</td>\n",
       "      <td>NaN</td>\n",
       "      <td>77265</td>\n",
       "      <td>0.88</td>\n",
       "      <td>0.0000</td>\n",
       "    </tr>\n",
       "    <tr>\n",
       "      <th>4</th>\n",
       "      <td>AGO</td>\n",
       "      <td>Angola</td>\n",
       "      <td>26</td>\n",
       "      <td>5.6</td>\n",
       "      <td>1246700</td>\n",
       "      <td>17.0</td>\n",
       "      <td>6413.0</td>\n",
       "      <td>32866272</td>\n",
       "      <td>0.67</td>\n",
       "      <td>0.0042</td>\n",
       "    </tr>\n",
       "  </tbody>\n",
       "</table>\n",
       "</div>"
      ],
      "text/plain": [
       "  iso_alpha3    ccse_name  density  fertility_rate  land_area  median_age  \\\n",
       "0        AFG  Afghanistan       60             4.6     652860        18.0   \n",
       "1        ALB      Albania      105             1.6      27400        36.0   \n",
       "2        DZA      Algeria       18             3.1    2381740        29.0   \n",
       "3        AND      Andorra      164             NaN        470         NaN   \n",
       "4        AGO       Angola       26             5.6    1246700        17.0   \n",
       "\n",
       "   migrants  population  urban_pop_rate  world_share  \n",
       "0  -62920.0    38928346            0.25       0.0050  \n",
       "1  -14000.0     2877797            0.63       0.0004  \n",
       "2  -10000.0    43851044            0.73       0.0056  \n",
       "3       NaN       77265            0.88       0.0000  \n",
       "4    6413.0    32866272            0.67       0.0042  "
      ]
     },
     "execution_count": 7,
     "metadata": {},
     "output_type": "execute_result"
    }
   ],
   "source": [
    "countries.head()"
   ]
  },
  {
   "cell_type": "code",
   "execution_count": 8,
   "metadata": {
    "collapsed": true,
    "scrolled": true
   },
   "outputs": [],
   "source": [
    "regions = pd.read_csv(os.path.join('data', 'russia_regions.csv'))\n",
    "regname2iso3 = dict(zip(regions.name_with_type, regions.iso_code))\n",
    "regions = regions[[\"iso_code\",\"csse_province_state\",\"population\",\"population_urban\"]]\n",
    "regions.population_urban = regions.population_urban/regions.population\n",
    "regions.rename(columns={\"iso_code\": \"iso_alpha3\",\"csse_province_state\":\"ccse_name\",\"population_urban\":\"urban_pop_rate\"},\n",
    "               inplace=True)"
   ]
  },
  {
   "cell_type": "code",
   "execution_count": 9,
   "metadata": {
    "collapsed": true
   },
   "outputs": [],
   "source": [
    "countries = pd.concat([countries, regions], sort=True)"
   ]
  },
  {
   "cell_type": "code",
   "execution_count": 10,
   "metadata": {},
   "outputs": [
    {
     "data": {
      "text/html": [
       "<div>\n",
       "<style scoped>\n",
       "    .dataframe tbody tr th:only-of-type {\n",
       "        vertical-align: middle;\n",
       "    }\n",
       "\n",
       "    .dataframe tbody tr th {\n",
       "        vertical-align: top;\n",
       "    }\n",
       "\n",
       "    .dataframe thead th {\n",
       "        text-align: right;\n",
       "    }\n",
       "</style>\n",
       "<table border=\"1\" class=\"dataframe\">\n",
       "  <thead>\n",
       "    <tr style=\"text-align: right;\">\n",
       "      <th></th>\n",
       "      <th>ccse_name</th>\n",
       "      <th>density</th>\n",
       "      <th>fertility_rate</th>\n",
       "      <th>iso_alpha3</th>\n",
       "      <th>land_area</th>\n",
       "      <th>median_age</th>\n",
       "      <th>migrants</th>\n",
       "      <th>population</th>\n",
       "      <th>urban_pop_rate</th>\n",
       "      <th>world_share</th>\n",
       "    </tr>\n",
       "  </thead>\n",
       "  <tbody>\n",
       "    <tr>\n",
       "      <th>80</th>\n",
       "      <td>Cheliabinsk oblast</td>\n",
       "      <td>NaN</td>\n",
       "      <td>NaN</td>\n",
       "      <td>RU-CHE</td>\n",
       "      <td>NaN</td>\n",
       "      <td>NaN</td>\n",
       "      <td>NaN</td>\n",
       "      <td>3466960</td>\n",
       "      <td>0.826372</td>\n",
       "      <td>NaN</td>\n",
       "    </tr>\n",
       "    <tr>\n",
       "      <th>81</th>\n",
       "      <td>Republic of Chuvashia</td>\n",
       "      <td>NaN</td>\n",
       "      <td>NaN</td>\n",
       "      <td>RU-CU</td>\n",
       "      <td>NaN</td>\n",
       "      <td>NaN</td>\n",
       "      <td>NaN</td>\n",
       "      <td>1217820</td>\n",
       "      <td>0.634003</td>\n",
       "      <td>NaN</td>\n",
       "    </tr>\n",
       "    <tr>\n",
       "      <th>82</th>\n",
       "      <td>Chukotskiy autonomous oblast</td>\n",
       "      <td>NaN</td>\n",
       "      <td>NaN</td>\n",
       "      <td>RU-CHU</td>\n",
       "      <td>NaN</td>\n",
       "      <td>NaN</td>\n",
       "      <td>NaN</td>\n",
       "      <td>50726</td>\n",
       "      <td>0.715077</td>\n",
       "      <td>NaN</td>\n",
       "    </tr>\n",
       "    <tr>\n",
       "      <th>83</th>\n",
       "      <td>Yamalo-Nenetskiy AO</td>\n",
       "      <td>NaN</td>\n",
       "      <td>NaN</td>\n",
       "      <td>RU-YAN</td>\n",
       "      <td>NaN</td>\n",
       "      <td>NaN</td>\n",
       "      <td>NaN</td>\n",
       "      <td>544008</td>\n",
       "      <td>0.839333</td>\n",
       "      <td>NaN</td>\n",
       "    </tr>\n",
       "    <tr>\n",
       "      <th>84</th>\n",
       "      <td>Yaroslavl oblast</td>\n",
       "      <td>NaN</td>\n",
       "      <td>NaN</td>\n",
       "      <td>RU-YAR</td>\n",
       "      <td>NaN</td>\n",
       "      <td>NaN</td>\n",
       "      <td>NaN</td>\n",
       "      <td>1253189</td>\n",
       "      <td>0.815866</td>\n",
       "      <td>NaN</td>\n",
       "    </tr>\n",
       "  </tbody>\n",
       "</table>\n",
       "</div>"
      ],
      "text/plain": [
       "                       ccse_name  density  fertility_rate iso_alpha3  \\\n",
       "80            Cheliabinsk oblast      NaN             NaN     RU-CHE   \n",
       "81         Republic of Chuvashia      NaN             NaN      RU-CU   \n",
       "82  Chukotskiy autonomous oblast      NaN             NaN     RU-CHU   \n",
       "83           Yamalo-Nenetskiy AO      NaN             NaN     RU-YAN   \n",
       "84              Yaroslavl oblast      NaN             NaN     RU-YAR   \n",
       "\n",
       "    land_area  median_age  migrants  population  urban_pop_rate  world_share  \n",
       "80        NaN         NaN       NaN     3466960        0.826372          NaN  \n",
       "81        NaN         NaN       NaN     1217820        0.634003          NaN  \n",
       "82        NaN         NaN       NaN       50726        0.715077          NaN  \n",
       "83        NaN         NaN       NaN      544008        0.839333          NaN  \n",
       "84        NaN         NaN       NaN     1253189        0.815866          NaN  "
      ]
     },
     "execution_count": 10,
     "metadata": {},
     "output_type": "execute_result"
    }
   ],
   "source": [
    "countries.tail()"
   ]
  },
  {
   "cell_type": "code",
   "execution_count": 11,
   "metadata": {
    "collapsed": true
   },
   "outputs": [],
   "source": [
    "country2iso3 = dict(zip(countries['ccse_name'], countries['iso_alpha3']))\n",
    "iso32country = dict(zip(countries['iso_alpha3'], countries['ccse_name']))"
   ]
  },
  {
   "cell_type": "markdown",
   "metadata": {},
   "source": [
    "### Исторические данные по странам из CSSEGISandData/COVID-19"
   ]
  },
  {
   "cell_type": "code",
   "execution_count": 12,
   "metadata": {
    "collapsed": true
   },
   "outputs": [],
   "source": [
    "data = pd.read_csv(\n",
    "    os.path.join(\n",
    "        EXTERNAL_DATA_DIRNAME, CSSEGISandData,\n",
    "        'csse_covid_19_data', 'csse_covid_19_time_series', 'time_series_covid19_confirmed_global.csv')\n",
    ")\n",
    "data = data.groupby(\"Country/Region\").sum()\n",
    "\n",
    "data_lat_long = data.reset_index().iloc[:, :3]\n",
    "data_lat_long.columns = ['country', 'lat', 'long']\n",
    "\n",
    "data = data.iloc[:,4:].stack().reset_index()\n",
    "data.columns = ['country', 'date', 'confirmed']\n",
    "\n",
    "data_d = pd.read_csv(os.path.join(\n",
    "    EXTERNAL_DATA_DIRNAME, CSSEGISandData, \n",
    "    'csse_covid_19_data', 'csse_covid_19_time_series', 'time_series_covid19_deaths_global.csv'))\n",
    "data_d = data_d.groupby(\"Country/Region\").sum()\n",
    "data_d = data_d.iloc[:,4:].stack().reset_index()\n",
    "data_d.columns = ['country', 'date', 'deaths']\n",
    "\n",
    "data = data_lat_long.merge(data).merge(data_d)\n",
    "data['date'] = pd.to_datetime(data['date'])"
   ]
  },
  {
   "cell_type": "markdown",
   "metadata": {},
   "source": [
    "### Данные за последний по странам из CSSEGISandData/COVID-19 (web-data ветка)"
   ]
  },
  {
   "cell_type": "code",
   "execution_count": 13,
   "metadata": {
    "collapsed": true
   },
   "outputs": [],
   "source": [
    "CURRENT_DATE = '2020-04-25'"
   ]
  },
  {
   "cell_type": "code",
   "execution_count": 14,
   "metadata": {},
   "outputs": [
    {
     "data": {
      "text/html": [
       "<div>\n",
       "<style scoped>\n",
       "    .dataframe tbody tr th:only-of-type {\n",
       "        vertical-align: middle;\n",
       "    }\n",
       "\n",
       "    .dataframe tbody tr th {\n",
       "        vertical-align: top;\n",
       "    }\n",
       "\n",
       "    .dataframe thead th {\n",
       "        text-align: right;\n",
       "    }\n",
       "</style>\n",
       "<table border=\"1\" class=\"dataframe\">\n",
       "  <thead>\n",
       "    <tr style=\"text-align: right;\">\n",
       "      <th></th>\n",
       "      <th>country</th>\n",
       "      <th>confirmed</th>\n",
       "      <th>deaths</th>\n",
       "      <th>lat</th>\n",
       "      <th>long</th>\n",
       "      <th>date</th>\n",
       "    </tr>\n",
       "  </thead>\n",
       "  <tbody>\n",
       "    <tr>\n",
       "      <th>13</th>\n",
       "      <td>Russia</td>\n",
       "      <td>74588</td>\n",
       "      <td>681</td>\n",
       "      <td>60.0</td>\n",
       "      <td>90.0</td>\n",
       "      <td>2020-04-25</td>\n",
       "    </tr>\n",
       "  </tbody>\n",
       "</table>\n",
       "</div>"
      ],
      "text/plain": [
       "   country  confirmed  deaths   lat  long       date\n",
       "13  Russia      74588     681  60.0  90.0 2020-04-25"
      ]
     },
     "execution_count": 14,
     "metadata": {},
     "output_type": "execute_result"
    }
   ],
   "source": [
    "df = pd.read_csv('https://raw.githubusercontent.com/CSSEGISandData/COVID-19/web-data/data/cases_country.csv')\n",
    "\n",
    "df_add = df[['Country_Region', 'Confirmed', 'Deaths']].copy()\n",
    "df_add.columns = ['country', 'confirmed', 'deaths']\n",
    "\n",
    "country2lat = dict(zip(data['country'], data['lat']))\n",
    "country2long = dict(zip(data['country'], data['long']))\n",
    "df_add['lat'] = df_add['country'].map(country2lat)\n",
    "df_add['long'] = df_add['country'].map(country2long)\n",
    "\n",
    "df_add['date'] = pd.to_datetime(CURRENT_DATE)\n",
    "df_add[df_add['country'] == 'Russia']"
   ]
  },
  {
   "cell_type": "markdown",
   "metadata": {},
   "source": [
    "### Полные данные по странам"
   ]
  },
  {
   "cell_type": "code",
   "execution_count": 15,
   "metadata": {},
   "outputs": [
    {
     "data": {
      "text/html": [
       "<div>\n",
       "<style scoped>\n",
       "    .dataframe tbody tr th:only-of-type {\n",
       "        vertical-align: middle;\n",
       "    }\n",
       "\n",
       "    .dataframe tbody tr th {\n",
       "        vertical-align: top;\n",
       "    }\n",
       "\n",
       "    .dataframe thead th {\n",
       "        text-align: right;\n",
       "    }\n",
       "</style>\n",
       "<table border=\"1\" class=\"dataframe\">\n",
       "  <thead>\n",
       "    <tr style=\"text-align: right;\">\n",
       "      <th></th>\n",
       "      <th>country</th>\n",
       "      <th>lat</th>\n",
       "      <th>long</th>\n",
       "      <th>date</th>\n",
       "      <th>confirmed</th>\n",
       "      <th>deaths</th>\n",
       "      <th>iso3</th>\n",
       "    </tr>\n",
       "  </thead>\n",
       "  <tbody>\n",
       "    <tr>\n",
       "      <th>12922</th>\n",
       "      <td>Russia</td>\n",
       "      <td>60.0</td>\n",
       "      <td>90.0</td>\n",
       "      <td>2020-04-21</td>\n",
       "      <td>52763</td>\n",
       "      <td>456</td>\n",
       "      <td>RUS</td>\n",
       "    </tr>\n",
       "    <tr>\n",
       "      <th>12923</th>\n",
       "      <td>Russia</td>\n",
       "      <td>60.0</td>\n",
       "      <td>90.0</td>\n",
       "      <td>2020-04-22</td>\n",
       "      <td>57999</td>\n",
       "      <td>513</td>\n",
       "      <td>RUS</td>\n",
       "    </tr>\n",
       "    <tr>\n",
       "      <th>12924</th>\n",
       "      <td>Russia</td>\n",
       "      <td>60.0</td>\n",
       "      <td>90.0</td>\n",
       "      <td>2020-04-23</td>\n",
       "      <td>62773</td>\n",
       "      <td>555</td>\n",
       "      <td>RUS</td>\n",
       "    </tr>\n",
       "    <tr>\n",
       "      <th>12925</th>\n",
       "      <td>Russia</td>\n",
       "      <td>60.0</td>\n",
       "      <td>90.0</td>\n",
       "      <td>2020-04-24</td>\n",
       "      <td>68622</td>\n",
       "      <td>615</td>\n",
       "      <td>RUS</td>\n",
       "    </tr>\n",
       "    <tr>\n",
       "      <th>12926</th>\n",
       "      <td>Russia</td>\n",
       "      <td>60.0</td>\n",
       "      <td>90.0</td>\n",
       "      <td>2020-04-25</td>\n",
       "      <td>74588</td>\n",
       "      <td>681</td>\n",
       "      <td>RUS</td>\n",
       "    </tr>\n",
       "  </tbody>\n",
       "</table>\n",
       "</div>"
      ],
      "text/plain": [
       "      country   lat  long       date  confirmed  deaths iso3\n",
       "12922  Russia  60.0  90.0 2020-04-21      52763     456  RUS\n",
       "12923  Russia  60.0  90.0 2020-04-22      57999     513  RUS\n",
       "12924  Russia  60.0  90.0 2020-04-23      62773     555  RUS\n",
       "12925  Russia  60.0  90.0 2020-04-24      68622     615  RUS\n",
       "12926  Russia  60.0  90.0 2020-04-25      74588     681  RUS"
      ]
     },
     "execution_count": 15,
     "metadata": {},
     "output_type": "execute_result"
    }
   ],
   "source": [
    "data = pd.concat([data, df_add[data.columns]])\n",
    "data = data.sort_values(['country', 'date']).reset_index(drop=True)\n",
    "data['iso3'] = data['country'].map(country2iso3)\n",
    "\n",
    "data[data.iso3 == 'RUS'].tail()"
   ]
  },
  {
   "cell_type": "markdown",
   "metadata": {},
   "source": [
    "### Данные по регионам России из grwlf/COVID-19_plus_Russia"
   ]
  },
  {
   "cell_type": "code",
   "execution_count": 16,
   "metadata": {
    "collapsed": true,
    "scrolled": true
   },
   "outputs": [],
   "source": [
    "data_Ru = pd.read_csv(os.path.join(EXTERNAL_DATA_DIRNAME, COVID_19_plus_Russia,\n",
    "    'csse_covid_19_data', 'csse_covid_19_time_series', 'time_series_covid19_confirmed_RU.csv'\n",
    ")).groupby(\"Province_State\").sum()\n",
    "data_Ru = data_Ru.iloc[:,15:].stack().reset_index()\n",
    "data_Ru.columns = [\"country\",\"date\",\"confirmed\"]\n",
    "\n",
    "data_deaths_Ru = pd.read_csv(os.path.join(EXTERNAL_DATA_DIRNAME, COVID_19_plus_Russia,\n",
    "    'csse_covid_19_data', 'csse_covid_19_time_series', 'time_series_covid19_deaths_RU.csv'\n",
    ")).groupby(\"Province_State\").sum()\n",
    "data_deaths_Ru = data_deaths_Ru.iloc[:,15:].stack().reset_index()\n",
    "data_deaths_Ru.columns = [\"country\",\"date\",\"deaths\"]\n",
    "data_Ru = data_Ru.merge(data_deaths_Ru, how = 'left', left_on=('country','date'), right_on=('country','date'))\n",
    "data_Ru[\"recovered\"] = 0\n",
    "\n",
    "data_Ru.loc[data_Ru['country'] == 'Altay republic', 'country'] = 'Republic of Altay'\n",
    "\n",
    "data_Ru['iso3'] = data_Ru['country'].map(country2iso3)\n",
    "data_Ru['date'] = pd.to_datetime(data_Ru['date'])"
   ]
  },
  {
   "cell_type": "code",
   "execution_count": 17,
   "metadata": {},
   "outputs": [
    {
     "data": {
      "text/html": [
       "<div>\n",
       "<style scoped>\n",
       "    .dataframe tbody tr th:only-of-type {\n",
       "        vertical-align: middle;\n",
       "    }\n",
       "\n",
       "    .dataframe tbody tr th {\n",
       "        vertical-align: top;\n",
       "    }\n",
       "\n",
       "    .dataframe thead th {\n",
       "        text-align: right;\n",
       "    }\n",
       "</style>\n",
       "<table border=\"1\" class=\"dataframe\">\n",
       "  <thead>\n",
       "    <tr style=\"text-align: right;\">\n",
       "      <th></th>\n",
       "      <th>country</th>\n",
       "      <th>date</th>\n",
       "      <th>confirmed</th>\n",
       "      <th>deaths</th>\n",
       "      <th>recovered</th>\n",
       "      <th>iso3</th>\n",
       "    </tr>\n",
       "  </thead>\n",
       "  <tbody>\n",
       "    <tr>\n",
       "      <th>2692</th>\n",
       "      <td>Moscow</td>\n",
       "      <td>2020-04-20</td>\n",
       "      <td>26350</td>\n",
       "      <td>204</td>\n",
       "      <td>0</td>\n",
       "      <td>RU-MOW</td>\n",
       "    </tr>\n",
       "    <tr>\n",
       "      <th>2693</th>\n",
       "      <td>Moscow</td>\n",
       "      <td>2020-04-21</td>\n",
       "      <td>29433</td>\n",
       "      <td>233</td>\n",
       "      <td>0</td>\n",
       "      <td>RU-MOW</td>\n",
       "    </tr>\n",
       "    <tr>\n",
       "      <th>2694</th>\n",
       "      <td>Moscow</td>\n",
       "      <td>2020-04-22</td>\n",
       "      <td>31981</td>\n",
       "      <td>261</td>\n",
       "      <td>0</td>\n",
       "      <td>RU-MOW</td>\n",
       "    </tr>\n",
       "    <tr>\n",
       "      <th>2695</th>\n",
       "      <td>Moscow</td>\n",
       "      <td>2020-04-23</td>\n",
       "      <td>33940</td>\n",
       "      <td>288</td>\n",
       "      <td>0</td>\n",
       "      <td>RU-MOW</td>\n",
       "    </tr>\n",
       "    <tr>\n",
       "      <th>2696</th>\n",
       "      <td>Moscow</td>\n",
       "      <td>2020-04-24</td>\n",
       "      <td>36897</td>\n",
       "      <td>325</td>\n",
       "      <td>0</td>\n",
       "      <td>RU-MOW</td>\n",
       "    </tr>\n",
       "  </tbody>\n",
       "</table>\n",
       "</div>"
      ],
      "text/plain": [
       "     country       date  confirmed  deaths  recovered    iso3\n",
       "2692  Moscow 2020-04-20      26350     204          0  RU-MOW\n",
       "2693  Moscow 2020-04-21      29433     233          0  RU-MOW\n",
       "2694  Moscow 2020-04-22      31981     261          0  RU-MOW\n",
       "2695  Moscow 2020-04-23      33940     288          0  RU-MOW\n",
       "2696  Moscow 2020-04-24      36897     325          0  RU-MOW"
      ]
     },
     "execution_count": 17,
     "metadata": {},
     "output_type": "execute_result"
    }
   ],
   "source": [
    "data_Ru[data_Ru.iso3 == 'RU-MOW'].tail()"
   ]
  },
  {
   "cell_type": "code",
   "execution_count": 18,
   "metadata": {},
   "outputs": [
    {
     "name": "stdout",
     "output_type": "stream",
     "text": [
      "2020-01-24 00:00:00 2020-01-29 00:00:00\n"
     ]
    }
   ],
   "source": [
    "print(data.date.min(), data_Ru.date.min())"
   ]
  },
  {
   "cell_type": "markdown",
   "metadata": {},
   "source": [
    "#### Добавим недостающие 5 январских дней в данные по регионам"
   ]
  },
  {
   "cell_type": "code",
   "execution_count": 19,
   "metadata": {
    "collapsed": true
   },
   "outputs": [],
   "source": [
    "dates = list(data[data['country'] == 'Russia']['date'])\n",
    "one_day = data_Ru[data_Ru['date'] == data_Ru.date.min()].reset_index(drop=True)\n",
    "for dt in dates[:5]:\n",
    "    one_day['confirmed'] = 0\n",
    "    one_day['date'] = dt\n",
    "    data_Ru = pd.concat([data_Ru, one_day])"
   ]
  },
  {
   "cell_type": "code",
   "execution_count": 20,
   "metadata": {},
   "outputs": [
    {
     "data": {
      "text/html": [
       "<div>\n",
       "<style scoped>\n",
       "    .dataframe tbody tr th:only-of-type {\n",
       "        vertical-align: middle;\n",
       "    }\n",
       "\n",
       "    .dataframe tbody tr th {\n",
       "        vertical-align: top;\n",
       "    }\n",
       "\n",
       "    .dataframe thead th {\n",
       "        text-align: right;\n",
       "    }\n",
       "</style>\n",
       "<table border=\"1\" class=\"dataframe\">\n",
       "  <thead>\n",
       "    <tr style=\"text-align: right;\">\n",
       "      <th></th>\n",
       "      <th>country</th>\n",
       "      <th>date</th>\n",
       "      <th>confirmed</th>\n",
       "      <th>deaths</th>\n",
       "      <th>recovered</th>\n",
       "      <th>iso3</th>\n",
       "    </tr>\n",
       "  </thead>\n",
       "  <tbody>\n",
       "    <tr>\n",
       "      <th>2695</th>\n",
       "      <td>Moscow</td>\n",
       "      <td>2020-04-23</td>\n",
       "      <td>33940</td>\n",
       "      <td>288</td>\n",
       "      <td>0</td>\n",
       "      <td>RU-MOW</td>\n",
       "    </tr>\n",
       "    <tr>\n",
       "      <th>2696</th>\n",
       "      <td>Moscow</td>\n",
       "      <td>2020-04-24</td>\n",
       "      <td>36897</td>\n",
       "      <td>325</td>\n",
       "      <td>0</td>\n",
       "      <td>RU-MOW</td>\n",
       "    </tr>\n",
       "    <tr>\n",
       "      <th>30</th>\n",
       "      <td>Moscow</td>\n",
       "      <td>2020-01-24</td>\n",
       "      <td>0</td>\n",
       "      <td>0</td>\n",
       "      <td>0</td>\n",
       "      <td>RU-MOW</td>\n",
       "    </tr>\n",
       "    <tr>\n",
       "      <th>30</th>\n",
       "      <td>Moscow</td>\n",
       "      <td>2020-01-25</td>\n",
       "      <td>0</td>\n",
       "      <td>0</td>\n",
       "      <td>0</td>\n",
       "      <td>RU-MOW</td>\n",
       "    </tr>\n",
       "    <tr>\n",
       "      <th>30</th>\n",
       "      <td>Moscow</td>\n",
       "      <td>2020-01-26</td>\n",
       "      <td>0</td>\n",
       "      <td>0</td>\n",
       "      <td>0</td>\n",
       "      <td>RU-MOW</td>\n",
       "    </tr>\n",
       "    <tr>\n",
       "      <th>30</th>\n",
       "      <td>Moscow</td>\n",
       "      <td>2020-01-27</td>\n",
       "      <td>0</td>\n",
       "      <td>0</td>\n",
       "      <td>0</td>\n",
       "      <td>RU-MOW</td>\n",
       "    </tr>\n",
       "    <tr>\n",
       "      <th>30</th>\n",
       "      <td>Moscow</td>\n",
       "      <td>2020-01-28</td>\n",
       "      <td>0</td>\n",
       "      <td>0</td>\n",
       "      <td>0</td>\n",
       "      <td>RU-MOW</td>\n",
       "    </tr>\n",
       "  </tbody>\n",
       "</table>\n",
       "</div>"
      ],
      "text/plain": [
       "     country       date  confirmed  deaths  recovered    iso3\n",
       "2695  Moscow 2020-04-23      33940     288          0  RU-MOW\n",
       "2696  Moscow 2020-04-24      36897     325          0  RU-MOW\n",
       "30    Moscow 2020-01-24          0       0          0  RU-MOW\n",
       "30    Moscow 2020-01-25          0       0          0  RU-MOW\n",
       "30    Moscow 2020-01-26          0       0          0  RU-MOW\n",
       "30    Moscow 2020-01-27          0       0          0  RU-MOW\n",
       "30    Moscow 2020-01-28          0       0          0  RU-MOW"
      ]
     },
     "execution_count": 20,
     "metadata": {},
     "output_type": "execute_result"
    }
   ],
   "source": [
    "data_Ru[data_Ru.iso3 == 'RU-MOW'].tail(7)"
   ]
  },
  {
   "cell_type": "markdown",
   "metadata": {},
   "source": [
    "### Данные по регионам России за сегодня\n",
    "\n",
    "(сохраняем вручную в 'data/russia_today.txt' с сайта Роспотребнадзора https://www.rospotrebnadzor.ru/about/info/news/news_details.php?ELEMENT_ID=14316)\n",
    "\n",
    "формат:\n",
    "```\n",
    "1. Москва - 3570\n",
    "2. Московская область - 709\n",
    "3. Нижегородская область - 129\n",
    "4. Санкт-Петербург - 114\n",
    "5. Архангельская область - 68\n",
    "...\n",
    "```"
   ]
  },
  {
   "cell_type": "code",
   "execution_count": 22,
   "metadata": {
    "collapsed": true
   },
   "outputs": [],
   "source": [
    "last_day_confirmed = dict(zip(\n",
    "    data_Ru[data_Ru.date ==max(data_Ru.date)].iso3, \n",
    "    data_Ru[data_Ru.date == max(data_Ru.date)].confirmed\n",
    "))\n",
    "\n",
    "df_add_ru = []\n",
    "with open(os.path.join('data', 'russia_today.txt'), encoding='utf-8') as fin:\n",
    "    for line in fin:\n",
    "        arr = line.strip().replace('г.', 'г').split('.')[1].strip().split(' - ')\n",
    "        arr[0] = (\n",
    "            arr[0]\n",
    "            .replace('область', 'обл')\n",
    "            .replace('Республика', 'Респ')\n",
    "            .replace('Москва', 'г Москва')\n",
    "            .replace('Санкт-Петербург', 'г Санкт-Петербург')\n",
    "            .replace('Чеченская Респ', 'Респ Чеченская')\n",
    "            .replace('Респ Саха (Якутия)', 'Респ Саха /Якутия/')\n",
    "            .replace('Чувашская Респ', 'Чувашская Республика - Чувашия')\n",
    "            .replace('Респ Северная Осетия', 'Респ Северная Осетия - Алания')\n",
    "            .replace('Кабардино-Балкарская Респ', 'Респ Кабардино-Балкарская')\n",
    "            .replace('Карачаево-Черкесская Респ', 'Респ Карачаево-Черкесская')\n",
    "            .replace('Ханты-Мансийский АО', 'Ханты-Мансийский Автономный округ - Югра')\n",
    "            .replace('Кемеровская обл', 'Кемеровская область - Кузбасс')\n",
    "            .replace('Удмуртская Респ', 'Респ Удмуртская')\n",
    "            .replace('Еврейская АО', 'Еврейская Аобл')\n",
    "            .replace('гСевастополь', 'г Севастополь')\n",
    "        )\n",
    "        if arr[0] not in regname2iso3:\n",
    "            print(arr)\n",
    "        last_day_confirmed[regname2iso3[arr[0]]] += int(arr[1])\n",
    "df_add_ru = pd.DataFrame(list(last_day_confirmed.items()), columns=['iso3', 'confirmed'])\n",
    "df_add_ru['date'] = pd.to_datetime(CURRENT_DATE)"
   ]
  },
  {
   "cell_type": "markdown",
   "metadata": {},
   "source": [
    "### Полные данные по регионам"
   ]
  },
  {
   "cell_type": "code",
   "execution_count": 23,
   "metadata": {
    "collapsed": true
   },
   "outputs": [],
   "source": [
    "data_Ru = pd.concat([data_Ru[['iso3', 'confirmed', 'date']], df_add_ru])\n",
    "data_Ru['country'] = data_Ru['iso3'].map(iso32country)\n",
    "data_Ru = data_Ru.sort_values(['country', 'date']).reset_index(drop=True)"
   ]
  },
  {
   "cell_type": "code",
   "execution_count": 24,
   "metadata": {},
   "outputs": [
    {
     "data": {
      "text/html": [
       "<div>\n",
       "<style scoped>\n",
       "    .dataframe tbody tr th:only-of-type {\n",
       "        vertical-align: middle;\n",
       "    }\n",
       "\n",
       "    .dataframe tbody tr th {\n",
       "        vertical-align: top;\n",
       "    }\n",
       "\n",
       "    .dataframe thead th {\n",
       "        text-align: right;\n",
       "    }\n",
       "</style>\n",
       "<table border=\"1\" class=\"dataframe\">\n",
       "  <thead>\n",
       "    <tr style=\"text-align: right;\">\n",
       "      <th></th>\n",
       "      <th>iso3</th>\n",
       "      <th>confirmed</th>\n",
       "      <th>date</th>\n",
       "      <th>country</th>\n",
       "    </tr>\n",
       "  </thead>\n",
       "  <tbody>\n",
       "    <tr>\n",
       "      <th>2785</th>\n",
       "      <td>RU-MOW</td>\n",
       "      <td>29433</td>\n",
       "      <td>2020-04-21</td>\n",
       "      <td>Moscow</td>\n",
       "    </tr>\n",
       "    <tr>\n",
       "      <th>2786</th>\n",
       "      <td>RU-MOW</td>\n",
       "      <td>31981</td>\n",
       "      <td>2020-04-22</td>\n",
       "      <td>Moscow</td>\n",
       "    </tr>\n",
       "    <tr>\n",
       "      <th>2787</th>\n",
       "      <td>RU-MOW</td>\n",
       "      <td>33940</td>\n",
       "      <td>2020-04-23</td>\n",
       "      <td>Moscow</td>\n",
       "    </tr>\n",
       "    <tr>\n",
       "      <th>2788</th>\n",
       "      <td>RU-MOW</td>\n",
       "      <td>36897</td>\n",
       "      <td>2020-04-24</td>\n",
       "      <td>Moscow</td>\n",
       "    </tr>\n",
       "    <tr>\n",
       "      <th>2789</th>\n",
       "      <td>RU-MOW</td>\n",
       "      <td>39509</td>\n",
       "      <td>2020-04-25</td>\n",
       "      <td>Moscow</td>\n",
       "    </tr>\n",
       "  </tbody>\n",
       "</table>\n",
       "</div>"
      ],
      "text/plain": [
       "        iso3  confirmed       date country\n",
       "2785  RU-MOW      29433 2020-04-21  Moscow\n",
       "2786  RU-MOW      31981 2020-04-22  Moscow\n",
       "2787  RU-MOW      33940 2020-04-23  Moscow\n",
       "2788  RU-MOW      36897 2020-04-24  Moscow\n",
       "2789  RU-MOW      39509 2020-04-25  Moscow"
      ]
     },
     "execution_count": 24,
     "metadata": {},
     "output_type": "execute_result"
    }
   ],
   "source": [
    "data_Ru[data_Ru.iso3 == 'RU-MOW'].tail(5)"
   ]
  },
  {
   "cell_type": "markdown",
   "metadata": {},
   "source": [
    "### Полные данные на текущий день: страны + регионы"
   ]
  },
  {
   "cell_type": "code",
   "execution_count": 25,
   "metadata": {
    "collapsed": true
   },
   "outputs": [],
   "source": [
    "data = pd.concat([data, data_Ru], sort=True).reset_index(drop=True)"
   ]
  },
  {
   "cell_type": "code",
   "execution_count": 26,
   "metadata": {},
   "outputs": [
    {
     "data": {
      "text/html": [
       "<div>\n",
       "<style scoped>\n",
       "    .dataframe tbody tr th:only-of-type {\n",
       "        vertical-align: middle;\n",
       "    }\n",
       "\n",
       "    .dataframe tbody tr th {\n",
       "        vertical-align: top;\n",
       "    }\n",
       "\n",
       "    .dataframe thead th {\n",
       "        text-align: right;\n",
       "    }\n",
       "</style>\n",
       "<table border=\"1\" class=\"dataframe\">\n",
       "  <thead>\n",
       "    <tr style=\"text-align: right;\">\n",
       "      <th></th>\n",
       "      <th>confirmed</th>\n",
       "      <th>country</th>\n",
       "      <th>date</th>\n",
       "      <th>deaths</th>\n",
       "      <th>iso3</th>\n",
       "      <th>lat</th>\n",
       "      <th>long</th>\n",
       "    </tr>\n",
       "  </thead>\n",
       "  <tbody>\n",
       "    <tr>\n",
       "      <th>19992</th>\n",
       "      <td>33940</td>\n",
       "      <td>Moscow</td>\n",
       "      <td>2020-04-23</td>\n",
       "      <td>NaN</td>\n",
       "      <td>RU-MOW</td>\n",
       "      <td>NaN</td>\n",
       "      <td>NaN</td>\n",
       "    </tr>\n",
       "    <tr>\n",
       "      <th>12924</th>\n",
       "      <td>62773</td>\n",
       "      <td>Russia</td>\n",
       "      <td>2020-04-23</td>\n",
       "      <td>555.0</td>\n",
       "      <td>RUS</td>\n",
       "      <td>60.0</td>\n",
       "      <td>90.0</td>\n",
       "    </tr>\n",
       "    <tr>\n",
       "      <th>19993</th>\n",
       "      <td>36897</td>\n",
       "      <td>Moscow</td>\n",
       "      <td>2020-04-24</td>\n",
       "      <td>NaN</td>\n",
       "      <td>RU-MOW</td>\n",
       "      <td>NaN</td>\n",
       "      <td>NaN</td>\n",
       "    </tr>\n",
       "    <tr>\n",
       "      <th>12925</th>\n",
       "      <td>68622</td>\n",
       "      <td>Russia</td>\n",
       "      <td>2020-04-24</td>\n",
       "      <td>615.0</td>\n",
       "      <td>RUS</td>\n",
       "      <td>60.0</td>\n",
       "      <td>90.0</td>\n",
       "    </tr>\n",
       "    <tr>\n",
       "      <th>19994</th>\n",
       "      <td>39509</td>\n",
       "      <td>Moscow</td>\n",
       "      <td>2020-04-25</td>\n",
       "      <td>NaN</td>\n",
       "      <td>RU-MOW</td>\n",
       "      <td>NaN</td>\n",
       "      <td>NaN</td>\n",
       "    </tr>\n",
       "    <tr>\n",
       "      <th>12926</th>\n",
       "      <td>74588</td>\n",
       "      <td>Russia</td>\n",
       "      <td>2020-04-25</td>\n",
       "      <td>681.0</td>\n",
       "      <td>RUS</td>\n",
       "      <td>60.0</td>\n",
       "      <td>90.0</td>\n",
       "    </tr>\n",
       "  </tbody>\n",
       "</table>\n",
       "</div>"
      ],
      "text/plain": [
       "       confirmed country       date  deaths    iso3   lat  long\n",
       "19992      33940  Moscow 2020-04-23     NaN  RU-MOW   NaN   NaN\n",
       "12924      62773  Russia 2020-04-23   555.0     RUS  60.0  90.0\n",
       "19993      36897  Moscow 2020-04-24     NaN  RU-MOW   NaN   NaN\n",
       "12925      68622  Russia 2020-04-24   615.0     RUS  60.0  90.0\n",
       "19994      39509  Moscow 2020-04-25     NaN  RU-MOW   NaN   NaN\n",
       "12926      74588  Russia 2020-04-25   681.0     RUS  60.0  90.0"
      ]
     },
     "execution_count": 26,
     "metadata": {},
     "output_type": "execute_result"
    }
   ],
   "source": [
    "data[data.iso3.isin(['RUS', 'RU-MOW'])].sort_values(['date', 'iso3']).tail(6)"
   ]
  },
  {
   "cell_type": "code",
   "execution_count": null,
   "metadata": {
    "collapsed": true
   },
   "outputs": [],
   "source": []
  },
  {
   "cell_type": "markdown",
   "metadata": {},
   "source": [
    "## Подготавливаем датасет"
   ]
  },
  {
   "cell_type": "markdown",
   "metadata": {},
   "source": [
    "### Объединеям все даты в исторических данных и даты для прогноза"
   ]
  },
  {
   "cell_type": "code",
   "execution_count": 27,
   "metadata": {
    "scrolled": true
   },
   "outputs": [
    {
     "name": "stdout",
     "output_type": "stream",
     "text": [
      "(Timestamp('2020-01-24 00:00:00'), 0)\n",
      "(Timestamp('2020-12-31 00:00:00'), 342)\n"
     ]
    }
   ],
   "source": [
    "dates = list(data[data['country'] == 'Russia']['date'])\n",
    "\n",
    "data_ans = pd.read_csv(os.path.join('data', 'sample_submission_stage2.csv'))\n",
    "date2ind = dict(zip(dates, range(len(dates))))\n",
    "\n",
    "dates2 = pd.to_datetime(data_ans[data_ans['region'] == 'RUS']['date'])\n",
    "for e in dates2:\n",
    "    if e not in date2ind:\n",
    "        date2ind[e] = len(date2ind)\n",
    "        dates.append(e)\n",
    "print((dates[0], date2ind[dates[0]]))\n",
    "print((dates[-1], date2ind[dates[-1]]))"
   ]
  },
  {
   "cell_type": "markdown",
   "metadata": {},
   "source": [
    "### Строим датасет для объектов (iso3, date, \"сдвиг в днях, на который делаем прогноз\")\n",
    "\n",
    "Например, (RU-MOW, 2020-04-15, 7) - прогноз для RU-MOW от даты 2020-04-15 на 7 дней вперед"
   ]
  },
  {
   "cell_type": "code",
   "execution_count": 28,
   "metadata": {
    "collapsed": true
   },
   "outputs": [],
   "source": [
    "FORECAST_HORIZON = 7"
   ]
  },
  {
   "cell_type": "code",
   "execution_count": 29,
   "metadata": {
    "scrolled": true
   },
   "outputs": [
    {
     "name": "stdout",
     "output_type": "stream",
     "text": [
      "609854\n",
      "609854\n"
     ]
    }
   ],
   "source": [
    "df_all = pd.DataFrame(\n",
    "    list(itertools.product(iso32country.keys(), date2ind.keys(), range(1, FORECAST_HORIZON + 1)))\n",
    "    , columns=['iso3', 'date', 'shift']\n",
    ")\n",
    "df_all['date_ind'] = df_all['date'].map(date2ind)\n",
    "df_all['date_pred_ind'] = (df_all['date_ind'] + df_all['shift'])\n",
    "df_all['date_pred'] = df_all['date'] + df_all['shift'].apply(lambda x: pd.Timedelta(days=x))\n",
    "\n",
    "print(len(df_all))\n",
    "df_all = df_all.merge(data[['iso3', 'date', 'confirmed', 'deaths']], how='left').fillna(-1)\n",
    "print(len(df_all))"
   ]
  },
  {
   "cell_type": "code",
   "execution_count": 30,
   "metadata": {},
   "outputs": [
    {
     "data": {
      "text/html": [
       "<div>\n",
       "<style scoped>\n",
       "    .dataframe tbody tr th:only-of-type {\n",
       "        vertical-align: middle;\n",
       "    }\n",
       "\n",
       "    .dataframe tbody tr th {\n",
       "        vertical-align: top;\n",
       "    }\n",
       "\n",
       "    .dataframe thead th {\n",
       "        text-align: right;\n",
       "    }\n",
       "</style>\n",
       "<table border=\"1\" class=\"dataframe\">\n",
       "  <thead>\n",
       "    <tr style=\"text-align: right;\">\n",
       "      <th></th>\n",
       "      <th>iso3</th>\n",
       "      <th>date</th>\n",
       "      <th>shift</th>\n",
       "      <th>date_ind</th>\n",
       "      <th>date_pred_ind</th>\n",
       "      <th>date_pred</th>\n",
       "      <th>confirmed</th>\n",
       "      <th>deaths</th>\n",
       "    </tr>\n",
       "  </thead>\n",
       "  <tbody>\n",
       "    <tr>\n",
       "      <th>430353</th>\n",
       "      <td>RU-MOW</td>\n",
       "      <td>2020-04-15</td>\n",
       "      <td>1</td>\n",
       "      <td>82</td>\n",
       "      <td>83</td>\n",
       "      <td>2020-04-16</td>\n",
       "      <td>14776.0</td>\n",
       "      <td>-1.0</td>\n",
       "    </tr>\n",
       "    <tr>\n",
       "      <th>430354</th>\n",
       "      <td>RU-MOW</td>\n",
       "      <td>2020-04-15</td>\n",
       "      <td>2</td>\n",
       "      <td>82</td>\n",
       "      <td>84</td>\n",
       "      <td>2020-04-17</td>\n",
       "      <td>14776.0</td>\n",
       "      <td>-1.0</td>\n",
       "    </tr>\n",
       "    <tr>\n",
       "      <th>430355</th>\n",
       "      <td>RU-MOW</td>\n",
       "      <td>2020-04-15</td>\n",
       "      <td>3</td>\n",
       "      <td>82</td>\n",
       "      <td>85</td>\n",
       "      <td>2020-04-18</td>\n",
       "      <td>14776.0</td>\n",
       "      <td>-1.0</td>\n",
       "    </tr>\n",
       "    <tr>\n",
       "      <th>430356</th>\n",
       "      <td>RU-MOW</td>\n",
       "      <td>2020-04-15</td>\n",
       "      <td>4</td>\n",
       "      <td>82</td>\n",
       "      <td>86</td>\n",
       "      <td>2020-04-19</td>\n",
       "      <td>14776.0</td>\n",
       "      <td>-1.0</td>\n",
       "    </tr>\n",
       "    <tr>\n",
       "      <th>430357</th>\n",
       "      <td>RU-MOW</td>\n",
       "      <td>2020-04-15</td>\n",
       "      <td>5</td>\n",
       "      <td>82</td>\n",
       "      <td>87</td>\n",
       "      <td>2020-04-20</td>\n",
       "      <td>14776.0</td>\n",
       "      <td>-1.0</td>\n",
       "    </tr>\n",
       "    <tr>\n",
       "      <th>430358</th>\n",
       "      <td>RU-MOW</td>\n",
       "      <td>2020-04-15</td>\n",
       "      <td>6</td>\n",
       "      <td>82</td>\n",
       "      <td>88</td>\n",
       "      <td>2020-04-21</td>\n",
       "      <td>14776.0</td>\n",
       "      <td>-1.0</td>\n",
       "    </tr>\n",
       "    <tr>\n",
       "      <th>430359</th>\n",
       "      <td>RU-MOW</td>\n",
       "      <td>2020-04-15</td>\n",
       "      <td>7</td>\n",
       "      <td>82</td>\n",
       "      <td>89</td>\n",
       "      <td>2020-04-22</td>\n",
       "      <td>14776.0</td>\n",
       "      <td>-1.0</td>\n",
       "    </tr>\n",
       "  </tbody>\n",
       "</table>\n",
       "</div>"
      ],
      "text/plain": [
       "          iso3       date  shift  date_ind  date_pred_ind  date_pred  \\\n",
       "430353  RU-MOW 2020-04-15      1        82             83 2020-04-16   \n",
       "430354  RU-MOW 2020-04-15      2        82             84 2020-04-17   \n",
       "430355  RU-MOW 2020-04-15      3        82             85 2020-04-18   \n",
       "430356  RU-MOW 2020-04-15      4        82             86 2020-04-19   \n",
       "430357  RU-MOW 2020-04-15      5        82             87 2020-04-20   \n",
       "430358  RU-MOW 2020-04-15      6        82             88 2020-04-21   \n",
       "430359  RU-MOW 2020-04-15      7        82             89 2020-04-22   \n",
       "\n",
       "        confirmed  deaths  \n",
       "430353    14776.0    -1.0  \n",
       "430354    14776.0    -1.0  \n",
       "430355    14776.0    -1.0  \n",
       "430356    14776.0    -1.0  \n",
       "430357    14776.0    -1.0  \n",
       "430358    14776.0    -1.0  \n",
       "430359    14776.0    -1.0  "
      ]
     },
     "execution_count": 30,
     "metadata": {},
     "output_type": "execute_result"
    }
   ],
   "source": [
    "df_all[(df_all['iso3'] == 'RU-MOW') & (df_all.date == '2020-04-15')].sort_values(['date', 'iso3']).tail(7)"
   ]
  },
  {
   "cell_type": "code",
   "execution_count": 31,
   "metadata": {
    "collapsed": true
   },
   "outputs": [],
   "source": [
    "LAST_DATE = '2020-04-19'"
   ]
  },
  {
   "cell_type": "markdown",
   "metadata": {},
   "source": [
    "### Получаем таргеты для (iso3, date, сдвиг)\n",
    "\n",
    "В качестве таргета используем **приращение заболевших/умерших** относительно даты date\n",
    "\n",
    "Т.е. если для 'RU-MOW'\n",
    "- 2020-04-15 было 14776 заболевших,\n",
    "- 2020-04-16 было 16146 заболевших,\n",
    "- 2020-04-16 было 18105 заболевших,\n",
    "\n",
    "то \n",
    "- таргет для ('RU-MOW', 2020-04-15, 1) будет равен 1370,\n",
    "- таргет для ('RU-MOW', 2020-04-15, 2) будет равен 3329"
   ]
  },
  {
   "cell_type": "code",
   "execution_count": 32,
   "metadata": {
    "collapsed": true,
    "scrolled": true
   },
   "outputs": [],
   "source": [
    "for diff in range(1, FORECAST_HORIZON + 1):\n",
    "    df_all.loc[(df_all['shift'] == diff) & (df_all['date'] <= CURRENT_DATE), 'confirmed_diff'] = -(\n",
    "        df_all[(df_all['shift'] == diff) & (df_all['date'] <= CURRENT_DATE)]\n",
    "            .groupby('iso3')['confirmed'].diff(-diff)\n",
    "    )\n",
    "    df_all.loc[(df_all['shift'] == diff) & (df_all['date'] <= CURRENT_DATE), 'deaths_diff'] = -(\n",
    "        df_all[(df_all['shift'] == diff) & (df_all['date'] <= CURRENT_DATE)]\n",
    "            .groupby('iso3')['deaths'].diff(-diff)\n",
    "    )"
   ]
  },
  {
   "cell_type": "code",
   "execution_count": 33,
   "metadata": {},
   "outputs": [
    {
     "data": {
      "text/html": [
       "<div>\n",
       "<style scoped>\n",
       "    .dataframe tbody tr th:only-of-type {\n",
       "        vertical-align: middle;\n",
       "    }\n",
       "\n",
       "    .dataframe tbody tr th {\n",
       "        vertical-align: top;\n",
       "    }\n",
       "\n",
       "    .dataframe thead th {\n",
       "        text-align: right;\n",
       "    }\n",
       "</style>\n",
       "<table border=\"1\" class=\"dataframe\">\n",
       "  <thead>\n",
       "    <tr style=\"text-align: right;\">\n",
       "      <th></th>\n",
       "      <th>iso3</th>\n",
       "      <th>date</th>\n",
       "      <th>shift</th>\n",
       "      <th>date_ind</th>\n",
       "      <th>date_pred_ind</th>\n",
       "      <th>date_pred</th>\n",
       "      <th>confirmed</th>\n",
       "      <th>deaths</th>\n",
       "      <th>confirmed_diff</th>\n",
       "      <th>deaths_diff</th>\n",
       "    </tr>\n",
       "  </thead>\n",
       "  <tbody>\n",
       "    <tr>\n",
       "      <th>430353</th>\n",
       "      <td>RU-MOW</td>\n",
       "      <td>2020-04-15</td>\n",
       "      <td>1</td>\n",
       "      <td>82</td>\n",
       "      <td>83</td>\n",
       "      <td>2020-04-16</td>\n",
       "      <td>14776.0</td>\n",
       "      <td>-1.0</td>\n",
       "      <td>1370.0</td>\n",
       "      <td>-0.0</td>\n",
       "    </tr>\n",
       "    <tr>\n",
       "      <th>430354</th>\n",
       "      <td>RU-MOW</td>\n",
       "      <td>2020-04-15</td>\n",
       "      <td>2</td>\n",
       "      <td>82</td>\n",
       "      <td>84</td>\n",
       "      <td>2020-04-17</td>\n",
       "      <td>14776.0</td>\n",
       "      <td>-1.0</td>\n",
       "      <td>3329.0</td>\n",
       "      <td>-0.0</td>\n",
       "    </tr>\n",
       "    <tr>\n",
       "      <th>430355</th>\n",
       "      <td>RU-MOW</td>\n",
       "      <td>2020-04-15</td>\n",
       "      <td>3</td>\n",
       "      <td>82</td>\n",
       "      <td>85</td>\n",
       "      <td>2020-04-18</td>\n",
       "      <td>14776.0</td>\n",
       "      <td>-1.0</td>\n",
       "      <td>5978.0</td>\n",
       "      <td>-0.0</td>\n",
       "    </tr>\n",
       "    <tr>\n",
       "      <th>430356</th>\n",
       "      <td>RU-MOW</td>\n",
       "      <td>2020-04-15</td>\n",
       "      <td>4</td>\n",
       "      <td>82</td>\n",
       "      <td>86</td>\n",
       "      <td>2020-04-19</td>\n",
       "      <td>14776.0</td>\n",
       "      <td>-1.0</td>\n",
       "      <td>9548.0</td>\n",
       "      <td>-0.0</td>\n",
       "    </tr>\n",
       "    <tr>\n",
       "      <th>430357</th>\n",
       "      <td>RU-MOW</td>\n",
       "      <td>2020-04-15</td>\n",
       "      <td>5</td>\n",
       "      <td>82</td>\n",
       "      <td>87</td>\n",
       "      <td>2020-04-20</td>\n",
       "      <td>14776.0</td>\n",
       "      <td>-1.0</td>\n",
       "      <td>11574.0</td>\n",
       "      <td>-0.0</td>\n",
       "    </tr>\n",
       "    <tr>\n",
       "      <th>430358</th>\n",
       "      <td>RU-MOW</td>\n",
       "      <td>2020-04-15</td>\n",
       "      <td>6</td>\n",
       "      <td>82</td>\n",
       "      <td>88</td>\n",
       "      <td>2020-04-21</td>\n",
       "      <td>14776.0</td>\n",
       "      <td>-1.0</td>\n",
       "      <td>14657.0</td>\n",
       "      <td>-0.0</td>\n",
       "    </tr>\n",
       "    <tr>\n",
       "      <th>430359</th>\n",
       "      <td>RU-MOW</td>\n",
       "      <td>2020-04-15</td>\n",
       "      <td>7</td>\n",
       "      <td>82</td>\n",
       "      <td>89</td>\n",
       "      <td>2020-04-22</td>\n",
       "      <td>14776.0</td>\n",
       "      <td>-1.0</td>\n",
       "      <td>17205.0</td>\n",
       "      <td>-0.0</td>\n",
       "    </tr>\n",
       "  </tbody>\n",
       "</table>\n",
       "</div>"
      ],
      "text/plain": [
       "          iso3       date  shift  date_ind  date_pred_ind  date_pred  \\\n",
       "430353  RU-MOW 2020-04-15      1        82             83 2020-04-16   \n",
       "430354  RU-MOW 2020-04-15      2        82             84 2020-04-17   \n",
       "430355  RU-MOW 2020-04-15      3        82             85 2020-04-18   \n",
       "430356  RU-MOW 2020-04-15      4        82             86 2020-04-19   \n",
       "430357  RU-MOW 2020-04-15      5        82             87 2020-04-20   \n",
       "430358  RU-MOW 2020-04-15      6        82             88 2020-04-21   \n",
       "430359  RU-MOW 2020-04-15      7        82             89 2020-04-22   \n",
       "\n",
       "        confirmed  deaths  confirmed_diff  deaths_diff  \n",
       "430353    14776.0    -1.0          1370.0         -0.0  \n",
       "430354    14776.0    -1.0          3329.0         -0.0  \n",
       "430355    14776.0    -1.0          5978.0         -0.0  \n",
       "430356    14776.0    -1.0          9548.0         -0.0  \n",
       "430357    14776.0    -1.0         11574.0         -0.0  \n",
       "430358    14776.0    -1.0         14657.0         -0.0  \n",
       "430359    14776.0    -1.0         17205.0         -0.0  "
      ]
     },
     "execution_count": 33,
     "metadata": {},
     "output_type": "execute_result"
    }
   ],
   "source": [
    "df_all[(df_all['iso3'] == 'RU-MOW') & (df_all.date == '2020-04-15')].sort_values(['date', 'iso3']).tail(7)"
   ]
  },
  {
   "cell_type": "markdown",
   "metadata": {},
   "source": [
    "### Переходим в логарифмическую шкалу, исходя из метрики MALE(Mean Absolute Logarithmic Error) "
   ]
  },
  {
   "cell_type": "code",
   "execution_count": 34,
   "metadata": {},
   "outputs": [
    {
     "name": "stderr",
     "output_type": "stream",
     "text": [
      "C:\\Users\\Alexandr\\Anaconda3\\lib\\site-packages\\ipykernel_launcher.py:2: RuntimeWarning: divide by zero encountered in log10\n",
      "  \n",
      "C:\\Users\\Alexandr\\Anaconda3\\lib\\site-packages\\ipykernel_launcher.py:5: RuntimeWarning: divide by zero encountered in log10\n",
      "  \"\"\"\n"
     ]
    }
   ],
   "source": [
    "df_all['confirmed_diff_log'] = (\n",
    "    np.log10(df_all['confirmed'] + df_all['confirmed_diff'] + 1) - np.log10(df_all['confirmed'] + 1)\n",
    ")\n",
    "df_all['deaths_diff_log'] = (\n",
    "    np.log10(df_all['deaths'] + df_all['deaths_diff'] + 1) - np.log10(df_all['deaths'] + 1)\n",
    ")"
   ]
  },
  {
   "cell_type": "code",
   "execution_count": 35,
   "metadata": {},
   "outputs": [
    {
     "data": {
      "text/html": [
       "<div>\n",
       "<style scoped>\n",
       "    .dataframe tbody tr th:only-of-type {\n",
       "        vertical-align: middle;\n",
       "    }\n",
       "\n",
       "    .dataframe tbody tr th {\n",
       "        vertical-align: top;\n",
       "    }\n",
       "\n",
       "    .dataframe thead th {\n",
       "        text-align: right;\n",
       "    }\n",
       "</style>\n",
       "<table border=\"1\" class=\"dataframe\">\n",
       "  <thead>\n",
       "    <tr style=\"text-align: right;\">\n",
       "      <th></th>\n",
       "      <th>iso3</th>\n",
       "      <th>date</th>\n",
       "      <th>shift</th>\n",
       "      <th>date_ind</th>\n",
       "      <th>date_pred_ind</th>\n",
       "      <th>date_pred</th>\n",
       "      <th>confirmed</th>\n",
       "      <th>deaths</th>\n",
       "      <th>confirmed_diff</th>\n",
       "      <th>deaths_diff</th>\n",
       "      <th>confirmed_diff_log</th>\n",
       "      <th>deaths_diff_log</th>\n",
       "    </tr>\n",
       "  </thead>\n",
       "  <tbody>\n",
       "    <tr>\n",
       "      <th>430353</th>\n",
       "      <td>RU-MOW</td>\n",
       "      <td>2020-04-15</td>\n",
       "      <td>1</td>\n",
       "      <td>82</td>\n",
       "      <td>83</td>\n",
       "      <td>2020-04-16</td>\n",
       "      <td>14776.0</td>\n",
       "      <td>-1.0</td>\n",
       "      <td>1370.0</td>\n",
       "      <td>-0.0</td>\n",
       "      <td>0.038506</td>\n",
       "      <td>NaN</td>\n",
       "    </tr>\n",
       "    <tr>\n",
       "      <th>430354</th>\n",
       "      <td>RU-MOW</td>\n",
       "      <td>2020-04-15</td>\n",
       "      <td>2</td>\n",
       "      <td>82</td>\n",
       "      <td>84</td>\n",
       "      <td>2020-04-17</td>\n",
       "      <td>14776.0</td>\n",
       "      <td>-1.0</td>\n",
       "      <td>3329.0</td>\n",
       "      <td>-0.0</td>\n",
       "      <td>0.088236</td>\n",
       "      <td>NaN</td>\n",
       "    </tr>\n",
       "    <tr>\n",
       "      <th>430355</th>\n",
       "      <td>RU-MOW</td>\n",
       "      <td>2020-04-15</td>\n",
       "      <td>3</td>\n",
       "      <td>82</td>\n",
       "      <td>85</td>\n",
       "      <td>2020-04-18</td>\n",
       "      <td>14776.0</td>\n",
       "      <td>-1.0</td>\n",
       "      <td>5978.0</td>\n",
       "      <td>-0.0</td>\n",
       "      <td>0.147536</td>\n",
       "      <td>NaN</td>\n",
       "    </tr>\n",
       "    <tr>\n",
       "      <th>430356</th>\n",
       "      <td>RU-MOW</td>\n",
       "      <td>2020-04-15</td>\n",
       "      <td>4</td>\n",
       "      <td>82</td>\n",
       "      <td>86</td>\n",
       "      <td>2020-04-19</td>\n",
       "      <td>14776.0</td>\n",
       "      <td>-1.0</td>\n",
       "      <td>9548.0</td>\n",
       "      <td>-0.0</td>\n",
       "      <td>0.216467</td>\n",
       "      <td>NaN</td>\n",
       "    </tr>\n",
       "    <tr>\n",
       "      <th>430357</th>\n",
       "      <td>RU-MOW</td>\n",
       "      <td>2020-04-15</td>\n",
       "      <td>5</td>\n",
       "      <td>82</td>\n",
       "      <td>87</td>\n",
       "      <td>2020-04-20</td>\n",
       "      <td>14776.0</td>\n",
       "      <td>-1.0</td>\n",
       "      <td>11574.0</td>\n",
       "      <td>-0.0</td>\n",
       "      <td>0.251211</td>\n",
       "      <td>NaN</td>\n",
       "    </tr>\n",
       "    <tr>\n",
       "      <th>430358</th>\n",
       "      <td>RU-MOW</td>\n",
       "      <td>2020-04-15</td>\n",
       "      <td>6</td>\n",
       "      <td>82</td>\n",
       "      <td>88</td>\n",
       "      <td>2020-04-21</td>\n",
       "      <td>14776.0</td>\n",
       "      <td>-1.0</td>\n",
       "      <td>14657.0</td>\n",
       "      <td>-0.0</td>\n",
       "      <td>0.299263</td>\n",
       "      <td>NaN</td>\n",
       "    </tr>\n",
       "    <tr>\n",
       "      <th>430359</th>\n",
       "      <td>RU-MOW</td>\n",
       "      <td>2020-04-15</td>\n",
       "      <td>7</td>\n",
       "      <td>82</td>\n",
       "      <td>89</td>\n",
       "      <td>2020-04-22</td>\n",
       "      <td>14776.0</td>\n",
       "      <td>-1.0</td>\n",
       "      <td>17205.0</td>\n",
       "      <td>-0.0</td>\n",
       "      <td>0.335319</td>\n",
       "      <td>NaN</td>\n",
       "    </tr>\n",
       "  </tbody>\n",
       "</table>\n",
       "</div>"
      ],
      "text/plain": [
       "          iso3       date  shift  date_ind  date_pred_ind  date_pred  \\\n",
       "430353  RU-MOW 2020-04-15      1        82             83 2020-04-16   \n",
       "430354  RU-MOW 2020-04-15      2        82             84 2020-04-17   \n",
       "430355  RU-MOW 2020-04-15      3        82             85 2020-04-18   \n",
       "430356  RU-MOW 2020-04-15      4        82             86 2020-04-19   \n",
       "430357  RU-MOW 2020-04-15      5        82             87 2020-04-20   \n",
       "430358  RU-MOW 2020-04-15      6        82             88 2020-04-21   \n",
       "430359  RU-MOW 2020-04-15      7        82             89 2020-04-22   \n",
       "\n",
       "        confirmed  deaths  confirmed_diff  deaths_diff  confirmed_diff_log  \\\n",
       "430353    14776.0    -1.0          1370.0         -0.0            0.038506   \n",
       "430354    14776.0    -1.0          3329.0         -0.0            0.088236   \n",
       "430355    14776.0    -1.0          5978.0         -0.0            0.147536   \n",
       "430356    14776.0    -1.0          9548.0         -0.0            0.216467   \n",
       "430357    14776.0    -1.0         11574.0         -0.0            0.251211   \n",
       "430358    14776.0    -1.0         14657.0         -0.0            0.299263   \n",
       "430359    14776.0    -1.0         17205.0         -0.0            0.335319   \n",
       "\n",
       "        deaths_diff_log  \n",
       "430353              NaN  \n",
       "430354              NaN  \n",
       "430355              NaN  \n",
       "430356              NaN  \n",
       "430357              NaN  \n",
       "430358              NaN  \n",
       "430359              NaN  "
      ]
     },
     "execution_count": 35,
     "metadata": {},
     "output_type": "execute_result"
    }
   ],
   "source": [
    "df_all[(df_all['iso3'] == 'RU-MOW') & (df_all.date == '2020-04-15')].sort_values(['date', 'iso3']).tail(7)"
   ]
  },
  {
   "cell_type": "markdown",
   "metadata": {},
   "source": [
    "#### В логарифмической шкале приращения таргета (в период эксп роста распространения вируса) неплохо приближаются константой"
   ]
  },
  {
   "cell_type": "code",
   "execution_count": 36,
   "metadata": {},
   "outputs": [
    {
     "data": {
      "image/png": "[encoded data removed]",
      "text/plain": [
       "<Figure size 864x288 with 1 Axes>"
      ]
     },
     "metadata": {},
     "output_type": "display_data"
    }
   ],
   "source": [
    "ind = (\n",
    "    (df_all['date'] >= '2020-04-03') \n",
    "    & (df_all['date'] <= '2020-04-23') \n",
    "    & (df_all['shift'] == 1)\n",
    ")\n",
    "plt.figure(figsize=(12, 4))\n",
    "for iso3 in ['RU-MOW', 'RU-KDA']:\n",
    "    plt.plot(df_all[ind & (df_all['iso3'] == iso3)].date, \n",
    "             df_all[ind & (df_all['iso3'] == iso3)].confirmed_diff_log, label=(iso3, iso32country[iso3]))\n",
    "plt.legend()\n",
    "plt.title('Приращение заболевших в логарифмической шкале (confirmed_diff_log)')\n",
    "plt.show()"
   ]
  },
  {
   "cell_type": "markdown",
   "metadata": {},
   "source": [
    "## Вычисляем статистические факторы по историческим данным\n",
    "\n",
    "**Временные окна**: 1, 2, 3, 5, 7, 10, 14 дней\n",
    "\n",
    "**Сдвиги**: 1-7 дней\n",
    "\n",
    "**Статистики**: среднее, медиана\n",
    "\n",
    "\n",
    "Например, на конкретный день X считаем фактор - \"среднее приращение заболевших при прогнозе на 2 дня вперед для окна в 3 дня\":\n",
    "\n",
    "```\n",
    "день (X-4), прогноз на 2 дня вперед знаем, пусть он равен A.\n",
    "день (X-3), прогноз на 2 дня вперед знаем, пусть он равен B.\n",
    "день (X-2), прогноз на 2 дня вперед знаем, пусть он равен C.\n",
    "день (X-1), прогноз на 2 дня вперед НЕ знаем, т.к. не хотим заглядывать в будущее.\n",
    "день X - значение фактора равно (A + B + C) / 3\n",
    "```"
   ]
  },
  {
   "cell_type": "code",
   "execution_count": 37,
   "metadata": {
    "scrolled": true
   },
   "outputs": [
    {
     "name": "stdout",
     "output_type": "stream",
     "text": [
      "AFG "
     ]
    },
    {
     "name": "stderr",
     "output_type": "stream",
     "text": [
      "C:\\Users\\Alexandr\\Anaconda3\\lib\\site-packages\\numpy\\core\\fromnumeric.py:3257: RuntimeWarning: Mean of empty slice.\n",
      "  out=out, **kwargs)\n",
      "C:\\Users\\Alexandr\\Anaconda3\\lib\\site-packages\\numpy\\core\\_methods.py:161: RuntimeWarning: invalid value encountered in double_scalars\n",
      "  ret = ret.dtype.type(ret / rcount)\n"
     ]
    },
    {
     "name": "stdout",
     "output_type": "stream",
     "text": [
      "ALB DZA AND AGO ATG AZE ARG AUS AUT BHS BHR BGD ARM BRB BEL BTN BOL BIH BRA BLZ BRN BGR BLR KHM CMR CAN CPV CAF LKA TCD CHL CHN TWN COL COG COD CRI HRV CUB CYP CZE BEN DNK DMA DOM ECU SLV GNQ ETH ERI EST FJI FIN FRA DJI GAB GEO GMB DEU GHA GRC GRD GTM GIN GUY HTI VAT HND HUN ISL IND IDN IRN IRQ IRL ISR ITA CIV JAM JPN KAZ JOR KEN KOR KWT KGZ LAO LBN LVA LBR LBY LIE LTU LUX MDG MYS MDV MLT MRT MUS MEX MCO MNG MDA MNE MAR MOZ OMN NAM NPL NLD NZL NIC NER NGA NOR PAK PAN PNG PRY PER PHL POL PRT TLS QAT ROU RUS RWA LCA VCT SMR SAU SEN SRB SYC SGP SVK VNM SVN SOM ZAF ZWE ESP SDN SUR SWZ SWE CHE SYR THA TGO TTO ARE TUN TUR UGA UKR MKD EGY GBR TZA USA BFA URY UZB VEN ZMB RU-ALT RU-AMU RU-ARK RU-AST RU-BEL RU-BRY RU-VLA RU-VGG RU-VLG RU-VOR RU-MOW RU-SPE UA-40 RU-YEV RU-ZAB RU-IVA RU-IRK RU-KGD RU-KLU RU-KAM RU-KEM RU-KIR RU-KOS RU-KDA RU-KYA RU-KGN RU-KRS RU-LEN RU-LIP RU-MAG RU-MOS RU-MUR RU-NEN RU-NIZ RU-NGR RU-NVS RU-OMS RU-ORE RU-ORL RU-PNZ RU-PER RU-PRI RU-PSK RU-AD RU-AL RU-BA RU-BU RU-DA RU-IN RU-KB RU-KL RU-KC RU-KR RU-KO UA-43 RU-ME RU-MO RU-SA RU-SE RU-TA RU-TY RU-UD RU-KK RU-CE RU-ROS RU-RYA RU-SAM RU-SAR RU-SAK RU-SVE RU-SMO RU-STA RU-TAM RU-TVE RU-TOM RU-TUL RU-TYU RU-ULY RU-KHA RU-KHM RU-CHE RU-CU RU-CHU RU-YAN RU-YAR \n",
      "Wall time: 6min 39s\n"
     ]
    }
   ],
   "source": [
    "%%time\n",
    "features = defaultdict(dict)\n",
    "for cc in df_all['iso3'].unique():\n",
    "    print(cc, end = ' ')\n",
    "    for col in ['confirmed', 'deaths']:\n",
    "        vv = df_all[(df_all['shift'] == 1) & (df_all['iso3'] == cc)][col].values\n",
    "        vv = [np.nan if e == -1 else e for e in vv]\n",
    "        for i in range(len(vv)):\n",
    "            for shift in range(1, FORECAST_HORIZON):\n",
    "                for ws in [1, 2, 3, 5, 7, 10, 14]:\n",
    "                    real_ws = min(max(0, i - shift + 1), ws)\n",
    "                    right = np.array(vv[max(0, i - real_ws + 1): max(0, i + 1)])\n",
    "                    left = np.array(vv[max(0, i - shift - real_ws + 1): max(0, i - shift + 1)])\n",
    "                    \n",
    "                    f = np.mean(np.log10(right + 1) - np.log10(left + 1))\n",
    "                    features[(cc, i)][f'f_{col}_diff_rel_ws{ws}_shift{shift}_mean'] = f\n",
    "                    \n",
    "                    f = np.median(np.log10(right + 1) - np.log10(left + 1))\n",
    "                    features[(cc, i)][f'f_{col}_diff_rel_ws{ws}_shift{shift}_med'] = f                    \n",
    "print()"
   ]
  },
  {
   "cell_type": "code",
   "execution_count": 38,
   "metadata": {
    "collapsed": true
   },
   "outputs": [],
   "source": [
    "dff = pd.DataFrame.from_dict(features, orient='index').reset_index()\n",
    "dff.columns = ['iso3', 'date_ind'] + list(dff.columns[2:])"
   ]
  },
  {
   "cell_type": "markdown",
   "metadata": {},
   "source": [
    "### Добавляем вычисленные факторы в датасет"
   ]
  },
  {
   "cell_type": "code",
   "execution_count": 39,
   "metadata": {
    "collapsed": true
   },
   "outputs": [],
   "source": [
    "df_all = df_all.merge(dff)"
   ]
  },
  {
   "cell_type": "code",
   "execution_count": 40,
   "metadata": {},
   "outputs": [
    {
     "name": "stdout",
     "output_type": "stream",
     "text": [
      "(609854, 180)\n"
     ]
    }
   ],
   "source": [
    "print(df_all.shape)"
   ]
  },
  {
   "cell_type": "markdown",
   "metadata": {},
   "source": [
    "## Добавляем несколько факторов, известных про регионы\n",
    "\n",
    "- population\n",
    "- urban_pop_rate"
   ]
  },
  {
   "cell_type": "code",
   "execution_count": 41,
   "metadata": {
    "collapsed": true
   },
   "outputs": [],
   "source": [
    "# Избавляемся от Nan\n",
    "countries_mean = countries.mean()\n",
    "countries['urban_pop_rate'] = countries['urban_pop_rate'].fillna(countries_mean['urban_pop_rate'])\n",
    "countries = countries.rename(columns={'iso_alpha3': 'iso3'})\n",
    "\n",
    "df_all = df_all.merge(countries[['iso3', 'population', 'urban_pop_rate']])"
   ]
  },
  {
   "cell_type": "code",
   "execution_count": 42,
   "metadata": {},
   "outputs": [
    {
     "name": "stdout",
     "output_type": "stream",
     "text": [
      "Регионов России: 85,    Стран: 169\n"
     ]
    }
   ],
   "source": [
    "df_all['is_ru'] = df_all['iso3'].apply(lambda x: x.startswith('RU-') or x .startswith('UA-')).astype(int)\n",
    "print(f'Регионов России: {df_all[df_all.is_ru == 1].iso3.nunique()},'\n",
    "      , f'   Стран: {df_all[df_all.is_ru == 0].iso3.nunique()}')"
   ]
  },
  {
   "cell_type": "markdown",
   "metadata": {},
   "source": [
    "## Обучение моделей и кросс-валидация\n",
    "\n",
    "Фиксируем последнюю известную дату LAST_KNOWN_DATE (например, дедлайн для прогнозов на вторую неделю конкурса)\n",
    "\n",
    "- тестовая выборка: даты `[LAST_KNOWN_DATE - 6, LAST_KNOWN_DATE]`\n",
    "- тренировочная выборка: `[..., LAST_KNOWN_DATE - 7] (за исключением первых двух недель)`\n",
    "- выборка для финального прогноза: `[LAST_KNOWN_DATE + 1, LAST_KNOWN_DATE + 7]`"
   ]
  },
  {
   "cell_type": "code",
   "execution_count": 43,
   "metadata": {
    "collapsed": true
   },
   "outputs": [],
   "source": [
    "LAST_KNOWN_DATE = '2020-04-19'\n",
    "TEST_DAYS_CNT = 7\n",
    "START_IND = 14"
   ]
  },
  {
   "cell_type": "code",
   "execution_count": 44,
   "metadata": {
    "collapsed": true
   },
   "outputs": [],
   "source": [
    "ind_train = (\n",
    "    (df_all['date_ind'] >= START_IND) \n",
    "    & (df_all['date_ind'] + df_all['shift'] <= date2ind[pd.Timestamp(LAST_KNOWN_DATE)] - TEST_DAYS_CNT)\n",
    ")\n",
    "df_all['is_train'] = 0\n",
    "df_all.loc[ind_train, 'is_train'] = 1\n",
    "\n",
    "ind_test = (\n",
    "    (df_all['date_ind'] >= START_IND) \n",
    "    & (df_all['date_ind'] + df_all['shift'] > date2ind[pd.Timestamp(LAST_KNOWN_DATE)] - TEST_DAYS_CNT)\n",
    "    & (df_all['date_ind'] + df_all['shift'] <= date2ind[pd.Timestamp(LAST_KNOWN_DATE)])\n",
    ")\n",
    "df_all['is_test'] = 0\n",
    "df_all.loc[ind_test, 'is_test'] = 1\n",
    "\n",
    "ind_pred = (df_all['date_ind'] == date2ind[pd.Timestamp(LAST_KNOWN_DATE)])\n",
    "\n",
    "df_all['is_pred'] = 0\n",
    "df_all.loc[ind_pred, 'is_pred'] = 1"
   ]
  },
  {
   "cell_type": "markdown",
   "metadata": {},
   "source": [
    "#### Проверим тренировочную выборку для Москвы"
   ]
  },
  {
   "cell_type": "code",
   "execution_count": 45,
   "metadata": {
    "scrolled": true
   },
   "outputs": [
    {
     "data": {
      "text/html": [
       "<div>\n",
       "<style scoped>\n",
       "    .dataframe tbody tr th:only-of-type {\n",
       "        vertical-align: middle;\n",
       "    }\n",
       "\n",
       "    .dataframe tbody tr th {\n",
       "        vertical-align: top;\n",
       "    }\n",
       "\n",
       "    .dataframe thead th {\n",
       "        text-align: right;\n",
       "    }\n",
       "</style>\n",
       "<table border=\"1\" class=\"dataframe\">\n",
       "  <thead>\n",
       "    <tr style=\"text-align: right;\">\n",
       "      <th></th>\n",
       "      <th>iso3</th>\n",
       "      <th>date</th>\n",
       "      <th>shift</th>\n",
       "      <th>date_pred</th>\n",
       "      <th>confirmed</th>\n",
       "      <th>confirmed_diff</th>\n",
       "      <th>confirmed_diff_log</th>\n",
       "    </tr>\n",
       "  </thead>\n",
       "  <tbody>\n",
       "    <tr>\n",
       "      <th>430297</th>\n",
       "      <td>RU-MOW</td>\n",
       "      <td>2020-04-07</td>\n",
       "      <td>1</td>\n",
       "      <td>2020-04-08</td>\n",
       "      <td>5181.0</td>\n",
       "      <td>660.0</td>\n",
       "      <td>0.052064</td>\n",
       "    </tr>\n",
       "    <tr>\n",
       "      <th>430304</th>\n",
       "      <td>RU-MOW</td>\n",
       "      <td>2020-04-08</td>\n",
       "      <td>1</td>\n",
       "      <td>2020-04-09</td>\n",
       "      <td>5841.0</td>\n",
       "      <td>857.0</td>\n",
       "      <td>0.059448</td>\n",
       "    </tr>\n",
       "    <tr>\n",
       "      <th>430311</th>\n",
       "      <td>RU-MOW</td>\n",
       "      <td>2020-04-09</td>\n",
       "      <td>1</td>\n",
       "      <td>2020-04-10</td>\n",
       "      <td>6698.0</td>\n",
       "      <td>1124.0</td>\n",
       "      <td>0.067363</td>\n",
       "    </tr>\n",
       "    <tr>\n",
       "      <th>430318</th>\n",
       "      <td>RU-MOW</td>\n",
       "      <td>2020-04-10</td>\n",
       "      <td>1</td>\n",
       "      <td>2020-04-11</td>\n",
       "      <td>7822.0</td>\n",
       "      <td>1030.0</td>\n",
       "      <td>0.053717</td>\n",
       "    </tr>\n",
       "    <tr>\n",
       "      <th>430325</th>\n",
       "      <td>RU-MOW</td>\n",
       "      <td>2020-04-11</td>\n",
       "      <td>1</td>\n",
       "      <td>2020-04-12</td>\n",
       "      <td>8852.0</td>\n",
       "      <td>1306.0</td>\n",
       "      <td>0.059760</td>\n",
       "    </tr>\n",
       "  </tbody>\n",
       "</table>\n",
       "</div>"
      ],
      "text/plain": [
       "          iso3       date  shift  date_pred  confirmed  confirmed_diff  \\\n",
       "430297  RU-MOW 2020-04-07      1 2020-04-08     5181.0           660.0   \n",
       "430304  RU-MOW 2020-04-08      1 2020-04-09     5841.0           857.0   \n",
       "430311  RU-MOW 2020-04-09      1 2020-04-10     6698.0          1124.0   \n",
       "430318  RU-MOW 2020-04-10      1 2020-04-11     7822.0          1030.0   \n",
       "430325  RU-MOW 2020-04-11      1 2020-04-12     8852.0          1306.0   \n",
       "\n",
       "        confirmed_diff_log  \n",
       "430297            0.052064  \n",
       "430304            0.059448  \n",
       "430311            0.067363  \n",
       "430318            0.053717  \n",
       "430325            0.059760  "
      ]
     },
     "execution_count": 45,
     "metadata": {},
     "output_type": "execute_result"
    }
   ],
   "source": [
    "df_all[(df_all['iso3'] == 'RU-MOW') & (df_all['is_train'] == 1)& (df_all['shift'] == 1)]\\\n",
    "    [['iso3', 'date', 'shift', 'date_pred', 'confirmed', 'confirmed_diff', 'confirmed_diff_log']].tail()"
   ]
  },
  {
   "cell_type": "markdown",
   "metadata": {},
   "source": [
    "#### Проверим тестовую выборку для Москвы"
   ]
  },
  {
   "cell_type": "code",
   "execution_count": 46,
   "metadata": {},
   "outputs": [
    {
     "data": {
      "text/html": [
       "<div>\n",
       "<style scoped>\n",
       "    .dataframe tbody tr th:only-of-type {\n",
       "        vertical-align: middle;\n",
       "    }\n",
       "\n",
       "    .dataframe tbody tr th {\n",
       "        vertical-align: top;\n",
       "    }\n",
       "\n",
       "    .dataframe thead th {\n",
       "        text-align: right;\n",
       "    }\n",
       "</style>\n",
       "<table border=\"1\" class=\"dataframe\">\n",
       "  <thead>\n",
       "    <tr style=\"text-align: right;\">\n",
       "      <th></th>\n",
       "      <th>iso3</th>\n",
       "      <th>date</th>\n",
       "      <th>shift</th>\n",
       "      <th>date_pred</th>\n",
       "      <th>confirmed</th>\n",
       "      <th>confirmed_diff</th>\n",
       "      <th>confirmed_diff_log</th>\n",
       "    </tr>\n",
       "  </thead>\n",
       "  <tbody>\n",
       "    <tr>\n",
       "      <th>430332</th>\n",
       "      <td>RU-MOW</td>\n",
       "      <td>2020-04-12</td>\n",
       "      <td>1</td>\n",
       "      <td>2020-04-13</td>\n",
       "      <td>10158.0</td>\n",
       "      <td>1355.0</td>\n",
       "      <td>0.054375</td>\n",
       "    </tr>\n",
       "    <tr>\n",
       "      <th>430339</th>\n",
       "      <td>RU-MOW</td>\n",
       "      <td>2020-04-13</td>\n",
       "      <td>1</td>\n",
       "      <td>2020-04-14</td>\n",
       "      <td>11513.0</td>\n",
       "      <td>1489.0</td>\n",
       "      <td>0.052817</td>\n",
       "    </tr>\n",
       "    <tr>\n",
       "      <th>430346</th>\n",
       "      <td>RU-MOW</td>\n",
       "      <td>2020-04-14</td>\n",
       "      <td>1</td>\n",
       "      <td>2020-04-15</td>\n",
       "      <td>13002.0</td>\n",
       "      <td>1774.0</td>\n",
       "      <td>0.055543</td>\n",
       "    </tr>\n",
       "    <tr>\n",
       "      <th>430353</th>\n",
       "      <td>RU-MOW</td>\n",
       "      <td>2020-04-15</td>\n",
       "      <td>1</td>\n",
       "      <td>2020-04-16</td>\n",
       "      <td>14776.0</td>\n",
       "      <td>1370.0</td>\n",
       "      <td>0.038506</td>\n",
       "    </tr>\n",
       "    <tr>\n",
       "      <th>430360</th>\n",
       "      <td>RU-MOW</td>\n",
       "      <td>2020-04-16</td>\n",
       "      <td>1</td>\n",
       "      <td>2020-04-17</td>\n",
       "      <td>16146.0</td>\n",
       "      <td>1959.0</td>\n",
       "      <td>0.049731</td>\n",
       "    </tr>\n",
       "    <tr>\n",
       "      <th>430367</th>\n",
       "      <td>RU-MOW</td>\n",
       "      <td>2020-04-17</td>\n",
       "      <td>1</td>\n",
       "      <td>2020-04-18</td>\n",
       "      <td>18105.0</td>\n",
       "      <td>2649.0</td>\n",
       "      <td>0.059300</td>\n",
       "    </tr>\n",
       "    <tr>\n",
       "      <th>430374</th>\n",
       "      <td>RU-MOW</td>\n",
       "      <td>2020-04-18</td>\n",
       "      <td>1</td>\n",
       "      <td>2020-04-19</td>\n",
       "      <td>20754.0</td>\n",
       "      <td>3570.0</td>\n",
       "      <td>0.068930</td>\n",
       "    </tr>\n",
       "  </tbody>\n",
       "</table>\n",
       "</div>"
      ],
      "text/plain": [
       "          iso3       date  shift  date_pred  confirmed  confirmed_diff  \\\n",
       "430332  RU-MOW 2020-04-12      1 2020-04-13    10158.0          1355.0   \n",
       "430339  RU-MOW 2020-04-13      1 2020-04-14    11513.0          1489.0   \n",
       "430346  RU-MOW 2020-04-14      1 2020-04-15    13002.0          1774.0   \n",
       "430353  RU-MOW 2020-04-15      1 2020-04-16    14776.0          1370.0   \n",
       "430360  RU-MOW 2020-04-16      1 2020-04-17    16146.0          1959.0   \n",
       "430367  RU-MOW 2020-04-17      1 2020-04-18    18105.0          2649.0   \n",
       "430374  RU-MOW 2020-04-18      1 2020-04-19    20754.0          3570.0   \n",
       "\n",
       "        confirmed_diff_log  \n",
       "430332            0.054375  \n",
       "430339            0.052817  \n",
       "430346            0.055543  \n",
       "430353            0.038506  \n",
       "430360            0.049731  \n",
       "430367            0.059300  \n",
       "430374            0.068930  "
      ]
     },
     "execution_count": 46,
     "metadata": {},
     "output_type": "execute_result"
    }
   ],
   "source": [
    "df_all[(df_all['iso3'] == 'RU-MOW') & (df_all['is_test'] == 1) & (df_all['shift'] == 1)]\\\n",
    "    [['iso3', 'date', 'shift', 'date_pred', 'confirmed', 'confirmed_diff', 'confirmed_diff_log']]"
   ]
  },
  {
   "cell_type": "markdown",
   "metadata": {},
   "source": [
    "#### Проверим прогнозную выборку для Москвы"
   ]
  },
  {
   "cell_type": "code",
   "execution_count": 47,
   "metadata": {},
   "outputs": [
    {
     "data": {
      "text/html": [
       "<div>\n",
       "<style scoped>\n",
       "    .dataframe tbody tr th:only-of-type {\n",
       "        vertical-align: middle;\n",
       "    }\n",
       "\n",
       "    .dataframe tbody tr th {\n",
       "        vertical-align: top;\n",
       "    }\n",
       "\n",
       "    .dataframe thead th {\n",
       "        text-align: right;\n",
       "    }\n",
       "</style>\n",
       "<table border=\"1\" class=\"dataframe\">\n",
       "  <thead>\n",
       "    <tr style=\"text-align: right;\">\n",
       "      <th></th>\n",
       "      <th>iso3</th>\n",
       "      <th>date</th>\n",
       "      <th>shift</th>\n",
       "      <th>date_pred</th>\n",
       "      <th>confirmed</th>\n",
       "      <th>confirmed_diff</th>\n",
       "      <th>confirmed_diff_log</th>\n",
       "    </tr>\n",
       "  </thead>\n",
       "  <tbody>\n",
       "    <tr>\n",
       "      <th>430381</th>\n",
       "      <td>RU-MOW</td>\n",
       "      <td>2020-04-19</td>\n",
       "      <td>1</td>\n",
       "      <td>2020-04-20</td>\n",
       "      <td>24324.0</td>\n",
       "      <td>2026.0</td>\n",
       "      <td>0.034744</td>\n",
       "    </tr>\n",
       "    <tr>\n",
       "      <th>430382</th>\n",
       "      <td>RU-MOW</td>\n",
       "      <td>2020-04-19</td>\n",
       "      <td>2</td>\n",
       "      <td>2020-04-21</td>\n",
       "      <td>24324.0</td>\n",
       "      <td>5109.0</td>\n",
       "      <td>0.082796</td>\n",
       "    </tr>\n",
       "    <tr>\n",
       "      <th>430383</th>\n",
       "      <td>RU-MOW</td>\n",
       "      <td>2020-04-19</td>\n",
       "      <td>3</td>\n",
       "      <td>2020-04-22</td>\n",
       "      <td>24324.0</td>\n",
       "      <td>7657.0</td>\n",
       "      <td>0.118853</td>\n",
       "    </tr>\n",
       "    <tr>\n",
       "      <th>430384</th>\n",
       "      <td>RU-MOW</td>\n",
       "      <td>2020-04-19</td>\n",
       "      <td>4</td>\n",
       "      <td>2020-04-23</td>\n",
       "      <td>24324.0</td>\n",
       "      <td>9616.0</td>\n",
       "      <td>0.144672</td>\n",
       "    </tr>\n",
       "    <tr>\n",
       "      <th>430385</th>\n",
       "      <td>RU-MOW</td>\n",
       "      <td>2020-04-19</td>\n",
       "      <td>5</td>\n",
       "      <td>2020-04-24</td>\n",
       "      <td>24324.0</td>\n",
       "      <td>12573.0</td>\n",
       "      <td>0.180950</td>\n",
       "    </tr>\n",
       "    <tr>\n",
       "      <th>430386</th>\n",
       "      <td>RU-MOW</td>\n",
       "      <td>2020-04-19</td>\n",
       "      <td>6</td>\n",
       "      <td>2020-04-25</td>\n",
       "      <td>24324.0</td>\n",
       "      <td>15185.0</td>\n",
       "      <td>0.210654</td>\n",
       "    </tr>\n",
       "    <tr>\n",
       "      <th>430387</th>\n",
       "      <td>RU-MOW</td>\n",
       "      <td>2020-04-19</td>\n",
       "      <td>7</td>\n",
       "      <td>2020-04-26</td>\n",
       "      <td>24324.0</td>\n",
       "      <td>NaN</td>\n",
       "      <td>NaN</td>\n",
       "    </tr>\n",
       "  </tbody>\n",
       "</table>\n",
       "</div>"
      ],
      "text/plain": [
       "          iso3       date  shift  date_pred  confirmed  confirmed_diff  \\\n",
       "430381  RU-MOW 2020-04-19      1 2020-04-20    24324.0          2026.0   \n",
       "430382  RU-MOW 2020-04-19      2 2020-04-21    24324.0          5109.0   \n",
       "430383  RU-MOW 2020-04-19      3 2020-04-22    24324.0          7657.0   \n",
       "430384  RU-MOW 2020-04-19      4 2020-04-23    24324.0          9616.0   \n",
       "430385  RU-MOW 2020-04-19      5 2020-04-24    24324.0         12573.0   \n",
       "430386  RU-MOW 2020-04-19      6 2020-04-25    24324.0         15185.0   \n",
       "430387  RU-MOW 2020-04-19      7 2020-04-26    24324.0             NaN   \n",
       "\n",
       "        confirmed_diff_log  \n",
       "430381            0.034744  \n",
       "430382            0.082796  \n",
       "430383            0.118853  \n",
       "430384            0.144672  \n",
       "430385            0.180950  \n",
       "430386            0.210654  \n",
       "430387                 NaN  "
      ]
     },
     "execution_count": 47,
     "metadata": {},
     "output_type": "execute_result"
    }
   ],
   "source": [
    "df_all[(df_all['iso3'] == 'RU-MOW') & (df_all['is_pred'] == 1)]\\\n",
    "    [['iso3', 'date', 'shift', 'date_pred', 'confirmed', 'confirmed_diff', 'confirmed_diff_log']]"
   ]
  },
  {
   "cell_type": "markdown",
   "metadata": {},
   "source": [
    "### Выбираем финальный набор факторов"
   ]
  },
  {
   "cell_type": "code",
   "execution_count": 48,
   "metadata": {},
   "outputs": [
    {
     "name": "stdout",
     "output_type": "stream",
     "text": [
      "89\n"
     ]
    }
   ],
   "source": [
    "f_names = ['shift', 'confirmed']\n",
    "f_names += [e for e in df_all.columns if e.startswith('f_confirmed')]\n",
    "f_names += ['population', 'urban_pop_rate', 'is_ru']\n",
    "print(len(f_names))"
   ]
  },
  {
   "cell_type": "markdown",
   "metadata": {},
   "source": [
    "### Подготавливаем датасеты\n",
    "\n",
    "- для обучения\n",
    "- для теста\n",
    "- для прогноза\n",
    "- для обучения на полных данных (для обучения финальных моделей, которыми будем делать инференс)"
   ]
  },
  {
   "cell_type": "code",
   "execution_count": 49,
   "metadata": {},
   "outputs": [
    {
     "name": "stdout",
     "output_type": "stream",
     "text": [
      "Размер тренировочного датасета 110236\n",
      "Размер тестового датасета 12446\n",
      "Размер прогнозного датасета 1778\n",
      "Размер полного тренировочного датасета 122682\n"
     ]
    }
   ],
   "source": [
    "df_train = df_all[df_all['is_train'] == 1].copy()\n",
    "df_test = df_all[df_all['is_test'] == 1].copy()\n",
    "df_pred = df_all[df_all['is_pred'] == 1].copy()\n",
    "df_train_all = df_all[(df_all['is_train'] == 1) | (df_all['is_test'] == 1)].copy()\n",
    "\n",
    "print('Размер тренировочного датасета', len(df_train))\n",
    "print('Размер тестового датасета', len(df_test))\n",
    "print('Размер прогнозного датасета', len(df_pred))\n",
    "print('Размер полного тренировочного датасета', len(df_train_all))"
   ]
  },
  {
   "cell_type": "markdown",
   "metadata": {},
   "source": [
    "## Обучаем деревянную xgboost модель\n",
    "\n",
    "**Деревья не умеют прогнозировать тренд**, но, благодаря тому что в качестве таргета используются приращения, эта проблема решается."
   ]
  },
  {
   "cell_type": "code",
   "execution_count": 55,
   "metadata": {
    "collapsed": true
   },
   "outputs": [],
   "source": [
    "xgb_params = {\n",
    "    'objective': 'reg:linear',\n",
    "    'max_depth': 4, \n",
    "    'min_child_weight': 8, \n",
    "    'learning_rate': 0.077,\n",
    "    'colsample_bylevel':  0.2,\n",
    "    'silent': False,\n",
    "    'seed': 0,\n",
    "    'booster': 'gbtree',\n",
    "    'alpha': 10,\n",
    "    'beta': 1,\n",
    "}"
   ]
  },
  {
   "cell_type": "markdown",
   "metadata": {},
   "source": [
    "### Задаем веса обучающим примерам\n",
    "\n",
    "Т.к. прогнозы на втором и третьем этапах оцениваются только по регионам России, странам можно давать меньший вес при обучении."
   ]
  },
  {
   "cell_type": "code",
   "execution_count": 51,
   "metadata": {
    "collapsed": true
   },
   "outputs": [],
   "source": [
    "df_train['w'] = 1\n",
    "df_train_all['w'] = 1"
   ]
  },
  {
   "cell_type": "markdown",
   "metadata": {},
   "source": [
    "#### xgboost не умеет в null-ы, убедимся, что их нет"
   ]
  },
  {
   "cell_type": "code",
   "execution_count": 52,
   "metadata": {
    "scrolled": true
   },
   "outputs": [
    {
     "name": "stdout",
     "output_type": "stream",
     "text": [
      "0 0 0 0\n"
     ]
    }
   ],
   "source": [
    "print(\n",
    "    df_train[f_names + ['w', 'confirmed_diff_log']].isnull().sum().sum(),\n",
    "    df_test[f_names + ['confirmed_diff_log']].isnull().sum().sum(),\n",
    "    df_train_all[f_names + ['w', 'confirmed_diff_log']].isnull().sum().sum(),\n",
    "    df_pred[f_names].isnull().sum().sum()\n",
    ")"
   ]
  },
  {
   "cell_type": "code",
   "execution_count": 53,
   "metadata": {
    "collapsed": true
   },
   "outputs": [],
   "source": [
    "def xgb_mae(preds, dtrain):\n",
    "    labels = dtrain.get_label()\n",
    "    return('mae', np.mean(np.abs(labels - preds)))\n",
    "\n",
    "def train_xgboost(df_train, df_test, df_train_all, fnames, target, xgb_params, num_rounds):\n",
    "    dtrain = xgb.DMatrix(df_train[fnames], df_train[target], weight=df_train['w'])\n",
    "    dtrain_all = xgb.DMatrix(df_train_all[fnames], df_train_all[target], weight=df_train_all['w'])\n",
    "    dtest = xgb.DMatrix(df_test[fnames], df_test[target])\n",
    "    dtest_ru = xgb.DMatrix(df_test[df_test['is_ru'] == 1][fnames], df_test[df_test['is_ru'] == 1][target])\n",
    "    \n",
    "    watchlist  = [(dtest, 'test'), (dtest_ru, 'test_ru'), (dtrain, 'train')]\n",
    "    \n",
    "    evals_result = {}\n",
    "    print('train')\n",
    "    xgb_model = xgb.train(\n",
    "        xgb_params, dtrain, num_rounds, watchlist, feval=xgb_mae, evals_result=evals_result, verbose_eval=20\n",
    "    )\n",
    "    print()\n",
    "    print('train_all')\n",
    "    xgb_model_all = xgb.train(\n",
    "        xgb_params, dtrain_all, num_rounds, watchlist, feval=xgb_mae, evals_result=evals_result, verbose_eval=20\n",
    "    )\n",
    "    print()\n",
    "    return xgb_model, xgb_model_all"
   ]
  },
  {
   "cell_type": "markdown",
   "metadata": {},
   "source": [
    "#### Обучаем бустинг на деревьях"
   ]
  },
  {
   "cell_type": "code",
   "execution_count": 56,
   "metadata": {
    "scrolled": true
   },
   "outputs": [
    {
     "name": "stdout",
     "output_type": "stream",
     "text": [
      "train\n",
      "[0]\ttest-rmse:0.363288\ttest_ru-rmse:0.291629\ttrain-rmse:0.411452\ttest-mae:0.338977\ttest_ru-mae:0.252178\ttrain-mae:0.386288\n",
      "[20]\ttest-rmse:0.160404\ttest_ru-rmse:0.194495\ttrain-rmse:0.217343\ttest-mae:0.131035\ttest_ru-mae:0.1437\ttrain-mae:0.168506\n",
      "[40]\ttest-rmse:0.138708\ttest_ru-rmse:0.191033\ttrain-rmse:0.199688\ttest-mae:0.093958\ttest_ru-mae:0.129727\ttrain-mae:0.125922\n",
      "[60]\ttest-rmse:0.135746\ttest_ru-rmse:0.191212\ttrain-rmse:0.19626\ttest-mae:0.085412\ttest_ru-mae:0.127543\ttrain-mae:0.115935\n",
      "[80]\ttest-rmse:0.134275\ttest_ru-rmse:0.188704\ttrain-rmse:0.194577\ttest-mae:0.083018\ttest_ru-mae:0.125463\ttrain-mae:0.112706\n",
      "[100]\ttest-rmse:0.133491\ttest_ru-rmse:0.187922\ttrain-rmse:0.193559\ttest-mae:0.08201\ttest_ru-mae:0.12503\ttrain-mae:0.11154\n",
      "[119]\ttest-rmse:0.132364\ttest_ru-rmse:0.18648\ttrain-rmse:0.192614\ttest-mae:0.080777\ttest_ru-mae:0.124211\ttrain-mae:0.110643\n",
      "\n",
      "train_all\n",
      "[0]\ttest-rmse:0.362426\ttest_ru-rmse:0.291573\ttrain-rmse:0.411435\ttest-mae:0.338282\ttest_ru-mae:0.252095\ttrain-mae:0.386283\n",
      "[20]\ttest-rmse:0.156132\ttest_ru-rmse:0.19308\ttrain-rmse:0.21764\ttest-mae:0.12666\ttest_ru-mae:0.143252\ttrain-mae:0.168754\n",
      "[40]\ttest-rmse:0.132742\ttest_ru-rmse:0.185472\ttrain-rmse:0.20012\ttest-mae:0.087058\ttest_ru-mae:0.126583\ttrain-mae:0.126384\n",
      "[60]\ttest-rmse:0.128881\ttest_ru-rmse:0.182702\ttrain-rmse:0.196768\ttest-mae:0.078721\ttest_ru-mae:0.122251\ttrain-mae:0.116505\n",
      "[80]\ttest-rmse:0.126669\ttest_ru-rmse:0.179243\ttrain-rmse:0.195119\ttest-mae:0.075959\ttest_ru-mae:0.119309\ttrain-mae:0.113575\n",
      "[100]\ttest-rmse:0.125153\ttest_ru-rmse:0.177095\ttrain-rmse:0.19414\ttest-mae:0.074822\ttest_ru-mae:0.117937\ttrain-mae:0.112481\n",
      "[119]\ttest-rmse:0.123474\ttest_ru-rmse:0.174526\ttrain-rmse:0.193334\ttest-mae:0.073553\ttest_ru-mae:0.11633\ttrain-mae:0.111511\n",
      "\n"
     ]
    }
   ],
   "source": [
    "target = 'confirmed_diff_log'\n",
    "num_rounds = 120\n",
    "fnames = f_names.copy()\n",
    "xgb_model, xgb_model_all = train_xgboost(\n",
    "    df_train, df_test, df_train_all, fnames, target, xgb_params, num_rounds\n",
    ")"
   ]
  },
  {
   "cell_type": "markdown",
   "metadata": {},
   "source": [
    "### Посмотрим на важность факторов в деревянной модели\n",
    "\n",
    "- логично, что самым важным фактором является сдвиг - т.е. то, насколько далеко вперед хочется сделать прогноз"
   ]
  },
  {
   "cell_type": "code",
   "execution_count": 57,
   "metadata": {},
   "outputs": [
    {
     "data": {
      "image/png": "[encoded data removed]",
      "text/plain": [
       "<Figure size 432x432 with 1 Axes>"
      ]
     },
     "metadata": {},
     "output_type": "display_data"
    }
   ],
   "source": [
    "from feature_importance import get_feature_importance, draw_feature_importance\n",
    "draw_feature_importance(\n",
    "    get_feature_importance(fnames, xgb_model),\n",
    "    topn=16\n",
    ")"
   ]
  },
  {
   "cell_type": "markdown",
   "metadata": {},
   "source": [
    "## Получим прогнозы на тестовой и прогнозной выборках\n",
    "\n",
    "Для тестовой выборки используем модель, обученную на тренировочной выборке\n",
    "\n",
    "Для прогнозной выборки используем финальную модель"
   ]
  },
  {
   "cell_type": "code",
   "execution_count": 58,
   "metadata": {
    "collapsed": true
   },
   "outputs": [],
   "source": [
    "def inference_xgboost(df_pred, fnames, model):\n",
    "    dpred = xgb.DMatrix(df_pred[fnames])\n",
    "    preds = model.predict(dpred)\n",
    "    return preds"
   ]
  },
  {
   "cell_type": "code",
   "execution_count": 75,
   "metadata": {
    "collapsed": true
   },
   "outputs": [],
   "source": [
    "test_pred = inference_xgboost(df_test, fnames, xgb_model)\n",
    "final_pred = inference_xgboost(df_pred, fnames, xgb_model)\n",
    "\n",
    "df_test['pred_final'] = test_pred\n",
    "df_pred['pred_final'] = final_pred"
   ]
  },
  {
   "cell_type": "markdown",
   "metadata": {},
   "source": [
    "### Перейдем в исходную шкалу и посмотрим на прогнозы"
   ]
  },
  {
   "cell_type": "code",
   "execution_count": 76,
   "metadata": {
    "collapsed": true
   },
   "outputs": [],
   "source": [
    "df_test['pred_real'] = 10**(df_test['pred_final'] + np.log10(df_test['confirmed'] + 1)) - 1\n",
    "df_pred['pred_real'] = 10**(df_pred['pred_final'] + np.log10(df_pred['confirmed'] + 1)) - 1"
   ]
  },
  {
   "cell_type": "code",
   "execution_count": 190,
   "metadata": {
    "collapsed": true
   },
   "outputs": [],
   "source": [
    "def draw_forecast(iso3_list, df_all, df_pred, pred_columns):\n",
    "    plt.figure(figsize=(16, 10))\n",
    "    for i, iso3 in enumerate(iso3_list):\n",
    "        plt.subplot(2, 2, i + 1)\n",
    "        baz_tr = df_all[(df_all['iso3'] == iso3) & (df_all['shift'] == 1) & (df_all['confirmed'] > 0)]\n",
    "        plt.plot(baz_tr['date'], baz_tr['confirmed'], label='истинное значение', marker='o')\n",
    "        baz_pr = df_pred[(df_pred['iso3'] == iso3)]\n",
    "        for col, col_label in pred_columns.items():\n",
    "            plt.plot(baz_pr['date_pred'], baz_pr[col], label=col_label, marker='o')\n",
    "\n",
    "        plt.xlim(['2020-04-01', None])\n",
    "        plt.xticks(rotation=20)\n",
    "        plt.legend()\n",
    "        plt.title((iso3, iso32country[iso3]))\n",
    "    plt.tight_layout()\n",
    "    plt.show()"
   ]
  },
  {
   "cell_type": "code",
   "execution_count": 191,
   "metadata": {
    "scrolled": false
   },
   "outputs": [
    {
     "data": {
      "image/png": "[encoded data removed]",
      "text/plain": [
       "<Figure size 1152x720 with 4 Axes>"
      ]
     },
     "metadata": {},
     "output_type": "display_data"
    }
   ],
   "source": [
    "draw_forecast(['RU-MOW', 'RU-SPE', 'RU-MOS', 'RU-KDA'], df_all, df_pred, {'pred_real': 'прогноз'})"
   ]
  },
  {
   "cell_type": "markdown",
   "metadata": {},
   "source": [
    "### Сохраним прогноз"
   ]
  },
  {
   "cell_type": "code",
   "execution_count": 80,
   "metadata": {
    "collapsed": true
   },
   "outputs": [],
   "source": [
    "def save_predictions(df_pred, filename, pred_col='pred_real'):\n",
    "    data_ans = pd.read_csv(os.path.join('data', 'sample_submission_stage2.csv'))\n",
    "    data_ans = data_ans.rename(columns={'region': 'iso3'})\n",
    "\n",
    "    final_df = df_pred[['iso3', 'date_pred', 'shift', pred_col]].copy()\n",
    "    final_df['date'] = final_df['date_pred'].astype(str)\n",
    "    final_df\n",
    "\n",
    "    data_ans = data_ans.merge(final_df, how='left')\n",
    "\n",
    "    data_ans.loc[~data_ans[pred_col].isnull(), 'prediction_confirmed'] = (\n",
    "        data_ans.loc[~data_ans[pred_col].isnull(), pred_col]\n",
    "    ).apply(lambda x: int(x + 0.5))\n",
    "\n",
    "    data_ans['prediction_confirmed'] = data_ans['prediction_confirmed'].astype(int)\n",
    "    data_ans['country'] = data_ans['iso3']\n",
    "\n",
    "    baz = data_ans[['date', 'country', 'prediction_confirmed', 'prediction_deaths']].copy()\n",
    "    baz.to_csv(os.path.join('submissions', filename), encoding='utf-8', index=False)    "
   ]
  },
  {
   "cell_type": "code",
   "execution_count": 64,
   "metadata": {
    "collapsed": true,
    "scrolled": true
   },
   "outputs": [],
   "source": [
    "save_predictions(df_pred, 'baseline_submission.csv')"
   ]
  },
  {
   "cell_type": "code",
   "execution_count": null,
   "metadata": {
    "collapsed": true
   },
   "outputs": [],
   "source": []
  },
  {
   "cell_type": "markdown",
   "metadata": {
    "collapsed": true
   },
   "source": [
    "## Попробуем улучшить прогнозы, используя данные только за последнюю неделю \n",
    "\n",
    "Обучив модель на тренировочной выборке и сделав инференс на тестовой, мы получили честные прогнозы на тесте.\n",
    "\n",
    "Для каждого региона и сдвига можно подобрать линейное преобразование прогнозов, максимизирующих качечство на тесте - т.е. качество на последней неделе наблюдений.\n",
    "\n",
    "Осторожно: несмотря на настройку всего одного коэффициента, есть риск переобучиться для каждого региона под тест и в итоге получить худшее качество по сравнению с базовой моделью :)"
   ]
  },
  {
   "cell_type": "code",
   "execution_count": 182,
   "metadata": {
    "scrolled": true
   },
   "outputs": [
    {
     "name": "stdout",
     "output_type": "stream",
     "text": [
      "RU-ALT 6 0.8\n",
      "RU-AMU 6 0.6\n",
      "RU-ARK 6 0.5\n",
      "RU-BRY 6 0.8\n",
      "RU-VGG 6 0.8\n",
      "RU-VLG 6 0.7000000000000001\n",
      "RU-YEV 6 0.6\n",
      "RU-IVA 6 0.9\n",
      "RU-KGD 6 0.6\n",
      "RU-KEM 6 0.8\n",
      "RU-KDA 6 0.9\n",
      "RU-LIP 6 0.8\n",
      "RU-NEN 6 0.1\n",
      "RU-OMS 6 0.6\n",
      "RU-PNZ 6 0.8\n",
      "RU-PRI 6 0.9\n",
      "RU-AL 6 0.1\n",
      "RU-BU 6 0.9\n",
      "RU-KL 6 0.7000000000000001\n",
      "RU-TY 6 0.8\n",
      "RU-SAK 6 0.1\n",
      "RU-KHM 6 0.9\n",
      "RU-CHE 6 0.8\n",
      "RU-YAN 6 0.7000000000000001\n"
     ]
    }
   ],
   "source": [
    "def mae(y_true, y_pred, weights=1):\n",
    "    return np.sum(weights * np.abs((y_pred - y_true))) / np.sum(weights * np.ones(len(y_true)))\n",
    "\n",
    "df_pred['pred_final_v2'] = df_pred['pred_final']\n",
    "\n",
    "for iso3 in df_test['iso3'].unique():\n",
    "    ind = (df_test['iso3'] == iso3)\n",
    "    true_values_ind = df_test[ind]['confirmed_diff_log'].values\n",
    "\n",
    "    best_alpha = 1.0\n",
    "    best_score = 1e9\n",
    "    for alpha in np.linspace(0.1, 1.0, 10):\n",
    "        pred_values_ind = (alpha * df_test.loc[ind, 'pred_final']).values\n",
    "        score = mae(true_values_ind, pred_values_ind)\n",
    "        if score < best_score:\n",
    "            best_alpha = alpha\n",
    "            best_score = score\n",
    "    if iso3.startswith('RU-') and best_alpha != 1:\n",
    "        print(iso3, shift, best_alpha)\n",
    "\n",
    "    ind = (df_pred['iso3'] == iso3)\n",
    "    df_pred.loc[ind, 'pred_final_v2'] = best_alpha * df_pred.loc[ind, 'pred_final']"
   ]
  },
  {
   "cell_type": "code",
   "execution_count": 183,
   "metadata": {
    "scrolled": true
   },
   "outputs": [],
   "source": [
    "df_pred['pred_real_v2'] = 10**(df_pred['pred_final_v2'] + np.log10(df_pred['confirmed'] + 1)) - 1"
   ]
  },
  {
   "cell_type": "markdown",
   "metadata": {},
   "source": [
    "#### Посмотрим, как изменились прогнозы\n",
    "\n",
    "По Москве коэффициент получился равным 1.0 - поэтому оранжевая и зеленая линии наложились"
   ]
  },
  {
   "cell_type": "code",
   "execution_count": 195,
   "metadata": {},
   "outputs": [
    {
     "data": {
      "image/png": "[encoded data removed]",
      "text/plain": [
       "<Figure size 1152x720 with 4 Axes>"
      ]
     },
     "metadata": {},
     "output_type": "display_data"
    }
   ],
   "source": [
    "draw_forecast(['RU-MOW', 'RU-MOS', 'RU-AMU', 'RU-NEN'], df_all, df_pred, \n",
    "              {'pred_real': 'прогноз', 'pred_real_v2': 'прогноз_v2'})"
   ]
  },
  {
   "cell_type": "code",
   "execution_count": 189,
   "metadata": {
    "collapsed": true
   },
   "outputs": [],
   "source": [
    "save_predictions(df_pred, 'baseline_submission_v2.csv', pred_col='pred_real_v2')"
   ]
  },
  {
   "cell_type": "code",
   "execution_count": null,
   "metadata": {
    "collapsed": true
   },
   "outputs": [],
   "source": []
  },
  {
   "cell_type": "code",
   "execution_count": null,
   "metadata": {
    "collapsed": true
   },
   "outputs": [],
   "source": []
  }
 ],
 "metadata": {
  "kernelspec": {
   "display_name": "Python 3",
   "language": "python",
   "name": "python3"
  },
  "language_info": {
   "codemirror_mode": {
    "name": "ipython",
    "version": 3
   },
   "file_extension": ".py",
   "mimetype": "text/x-python",
   "name": "python",
   "nbconvert_exporter": "python",
   "pygments_lexer": "ipython3",
   "version": "3.6.2"
  }
 },
 "nbformat": 4,
 "nbformat_minor": 2
}
